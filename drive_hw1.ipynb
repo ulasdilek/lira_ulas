{
 "cells": [
  {
   "cell_type": "code",
   "execution_count": 1,
   "metadata": {},
   "outputs": [],
   "source": [
    "import robotic as ry"
   ]
  },
  {
   "cell_type": "code",
   "execution_count": 2,
   "metadata": {},
   "outputs": [
    {
     "data": {
      "text/plain": [
       "<robotic._robotic.Frame at 0x7efdb21450f0>"
      ]
     },
     "execution_count": 2,
     "metadata": {},
     "output_type": "execute_result"
    }
   ],
   "source": [
    "config = ry.Config()\n",
    "config.addFile(ry.raiPath(\"../rai-robotModels/objects/kitchen.g\"))"
   ]
  },
  {
   "cell_type": "code",
   "execution_count": 3,
   "metadata": {},
   "outputs": [
    {
     "data": {
      "text/plain": [
       "['floorwalls',\n",
       " 'table1',\n",
       " 'table2',\n",
       " 'sink1',\n",
       " 'stove1',\n",
       " '_5',\n",
       " '_6',\n",
       " '_7',\n",
       " '_8',\n",
       " '_9',\n",
       " '_10',\n",
       " '_11',\n",
       " '_12',\n",
       " '_13']"
      ]
     },
     "execution_count": 3,
     "metadata": {},
     "output_type": "execute_result"
    }
   ],
   "source": [
    "config.getFrameNames()"
   ]
  },
  {
   "cell_type": "code",
   "execution_count": 4,
   "metadata": {},
   "outputs": [
    {
     "name": "stdout",
     "output_type": "stream",
     "text": [
      "[-0.5  2.   0.4]\n",
      "[1. 0. 0. 0.]\n"
     ]
    }
   ],
   "source": [
    "print(config.getFrame(\"sink1\").getPosition())\n",
    "print(config.getFrame(\"sink1\").getQuaternion())"
   ]
  },
  {
   "cell_type": "code",
   "execution_count": 5,
   "metadata": {},
   "outputs": [
    {
     "data": {
      "text/plain": [
       "<robotic._robotic.Frame at 0x7efdb8b2c9f0>"
      ]
     },
     "execution_count": 5,
     "metadata": {},
     "output_type": "execute_result"
    }
   ],
   "source": [
    "config.addFrame(\"h_handle\", \"sink1\") \\\n",
    "    .setShape(ry.ST.ssBox, [0.3, 0.05, 0.03, 0.005]) \\\n",
    "    .setColor([0.65, 0.50, 0.39]) \\\n",
    "    .setRelativePosition([0.1, 0.1, 0.415])\n",
    "\n",
    "config.addFrame(\"h_head\", \"h_handle\") \\\n",
    "    .setShape(ry.ST.ssBox, [0.1, 0.05, 0.03, 0.005]) \\\n",
    "    .setColor([0.55, 0.57, 0.58]) \\\n",
    "    .setRelativePosition([0.125, 0.0, 0.0]) \\\n",
    "    .setRelativeQuaternion([0.7071, 0, 0, 0.7071])"
   ]
  },
  {
   "cell_type": "code",
   "execution_count": 6,
   "metadata": {},
   "outputs": [],
   "source": [
    "config.addFrame(\"mug\", \"sink1\") \\\n",
    "    .setShape(ry.ST.ssBox, [0.05, 0.05, 0.2, 0.01]) \\\n",
    "    .setColor([0.2, 0.2, 0.2]) \\\n",
    "    .setRelativePosition([-0.1, -0.1, 0.5])\n",
    "\n",
    "config.addFrame(\"tray\", \"stove1\") \\\n",
    "    .setShape(ry.ST.ssBox, [0.2, 0.2, 0.05, 0.02]) \\\n",
    "    .setColor([0.0, 1.0, 0.0]) \\\n",
    "    .setRelativePose(\"t(0.0 0.0 0.42) d(45 0 0 1)\")"
   ]
  },
  {
   "cell_type": "code",
   "execution_count": 7,
   "metadata": {},
   "outputs": [
    {
     "data": {
      "text/plain": [
       "0"
      ]
     },
     "execution_count": 7,
     "metadata": {},
     "output_type": "execute_result"
    }
   ],
   "source": [
    "config.view()"
   ]
  },
  {
   "cell_type": "code",
   "execution_count": 8,
   "metadata": {},
   "outputs": [
    {
     "data": {
      "text/plain": [
       "0"
      ]
     },
     "execution_count": 8,
     "metadata": {},
     "output_type": "execute_result"
    }
   ],
   "source": [
    "config.view_close()\n",
    "\n",
    "# make the tray bigger\n",
    "config.getFrame(\"tray\").setShape(ry.ST.ssBox, [0.4, 0.4, 0.05, 0.02])\n",
    "\n",
    "config.view()"
   ]
  },
  {
   "cell_type": "code",
   "execution_count": 9,
   "metadata": {},
   "outputs": [
    {
     "data": {
      "text/plain": [
       "0"
      ]
     },
     "execution_count": 9,
     "metadata": {},
     "output_type": "execute_result"
    }
   ],
   "source": [
    "config.view_close()\n",
    "\n",
    "# place items on the tray\n",
    "# I could've done this using the whole frame state as well\n",
    "# (better practice? <- more efficient)\n",
    "# getFrameState has TODO remove -> ask\n",
    "tray_position = config.getFrame(\"tray\").getPosition()\n",
    "sink_position = config.getFrame(\"sink1\").getPosition()\n",
    "handle_position = tray_position - sink_position + [0, 0, 0.05]\n",
    "mug_position = tray_position - sink_position + [0, -0.1, 0.13]\n",
    "config.getFrame(\"h_handle\").setRelativePosition(handle_position)\n",
    "config.getFrame(\"mug\").setRelativePosition(mug_position)\n",
    "\n",
    "config.view()"
   ]
  },
  {
   "cell_type": "code",
   "execution_count": 10,
   "metadata": {},
   "outputs": [
    {
     "name": "stdout",
     "output_type": "stream",
     "text": [
      "(18, 7)\n"
     ]
    }
   ],
   "source": [
    "original_frame_state = config.getFrameState()\n",
    "print(original_frame_state.shape)"
   ]
  },
  {
   "cell_type": "code",
   "execution_count": 159,
   "metadata": {},
   "outputs": [
    {
     "data": {
      "text/plain": [
       "0"
      ]
     },
     "execution_count": 159,
     "metadata": {},
     "output_type": "execute_result"
    }
   ],
   "source": [
    "config.view_close()\n",
    "\n",
    "table_height = config.getFrame(\"_10\").getSize()[3]\n",
    "\n",
    "# place tray above table1\n",
    "# a little hack maybe?\n",
    "tray_frame = config.getFrame(\"tray\")\n",
    "config.getFrame(\"h_handle\").unLink().setParent(tray_frame, keepAbsolutePose_and_adaptRelativePose=True)\n",
    "config.getFrame(\"mug\").unLink().setParent(tray_frame, keepAbsolutePose_and_adaptRelativePose=True)\n",
    "config.getFrame(\"tray\").unLink().setParent(config.getFrame(\"table1\")).setRelativePosition([0, 0, table_height + 0.4])\n",
    "\n",
    "config.view()"
   ]
  },
  {
   "cell_type": "code",
   "execution_count": 160,
   "metadata": {},
   "outputs": [],
   "source": [
    "config.view_close()\n",
    "\n"
   ]
  },
  {
   "cell_type": "code",
   "execution_count": 11,
   "metadata": {},
   "outputs": [],
   "source": [
    "del config"
   ]
  }
 ],
 "metadata": {
  "kernelspec": {
   "display_name": "my_venv",
   "language": "python",
   "name": "python3"
  },
  "language_info": {
   "codemirror_mode": {
    "name": "ipython",
    "version": 3
   },
   "file_extension": ".py",
   "mimetype": "text/x-python",
   "name": "python",
   "nbconvert_exporter": "python",
   "pygments_lexer": "ipython3",
   "version": "3.11.10"
  }
 },
 "nbformat": 4,
 "nbformat_minor": 2
}
