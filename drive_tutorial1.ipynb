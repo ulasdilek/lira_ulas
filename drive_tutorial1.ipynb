{
 "cells": [
  {
   "cell_type": "markdown",
   "metadata": {},
   "source": [
    "I didn't do the other things because I have already done them in Marc's tutorials. There is not much in these ones that I haven't already seen."
   ]
  },
  {
   "cell_type": "code",
   "execution_count": 1,
   "metadata": {},
   "outputs": [],
   "source": [
    "import robotic as ry"
   ]
  },
  {
   "cell_type": "code",
   "execution_count": 2,
   "metadata": {},
   "outputs": [
    {
     "name": "stdout",
     "output_type": "stream",
     "text": [
      "feature value: [2.81896272e-01 1.25455202e-16 8.10370138e-01] \n",
      "Jacobian: [[-1.25455202e-16  4.77370138e-01 -1.15172364e-16 -2.37213253e-01\n",
      "   0.00000000e+00  3.96841887e-02  0.00000000e+00  0.00000000e+00]\n",
      " [ 2.81896272e-01  6.25935464e-17  5.54002326e-01  2.79346636e-16\n",
      "   1.54786187e-01  2.18260648e-16  4.16333634e-17  0.00000000e+00]\n",
      " [ 0.00000000e+00 -2.81896272e-01 -1.79370329e-16  5.03226163e-01\n",
      "   0.00000000e+00  2.24676245e-01  0.00000000e+00  0.00000000e+00]]\n"
     ]
    },
    {
     "data": {
      "text/plain": [
       "0"
      ]
     },
     "execution_count": 2,
     "metadata": {},
     "output_type": "execute_result"
    }
   ],
   "source": [
    "C = ry.Config()\n",
    "C.addFile(ry.raiPath(\"panda/panda.g\"))\n",
    "q = C.getJointState()\n",
    "[y,J] = C.eval(ry.FS.position, [\"gripper\"])\n",
    "print(\"feature value:\", y, \"\\nJacobian:\", J)\n",
    "C.view()"
   ]
  },
  {
   "cell_type": "code",
   "execution_count": 3,
   "metadata": {},
   "outputs": [],
   "source": [
    "C.view_close()\n",
    "del C"
   ]
  }
 ],
 "metadata": {
  "kernelspec": {
   "display_name": "my_venv",
   "language": "python",
   "name": "python3"
  },
  "language_info": {
   "codemirror_mode": {
    "name": "ipython",
    "version": 3
   },
   "file_extension": ".py",
   "mimetype": "text/x-python",
   "name": "python",
   "nbconvert_exporter": "python",
   "pygments_lexer": "ipython3",
   "version": "3.11.10"
  }
 },
 "nbformat": 4,
 "nbformat_minor": 2
}
