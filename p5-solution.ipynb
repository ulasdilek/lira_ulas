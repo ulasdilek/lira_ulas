{
 "cells": [
  {
   "cell_type": "code",
   "execution_count": 8,
   "metadata": {},
   "outputs": [],
   "source": [
    "import robotic as ry\n",
    "import numpy as np\n",
    "import time"
   ]
  },
  {
   "cell_type": "code",
   "execution_count": 9,
   "metadata": {},
   "outputs": [
    {
     "data": {
      "text/plain": [
       "<robotic._robotic.Frame at 0x7fdabcd1ac70>"
      ]
     },
     "execution_count": 9,
     "metadata": {},
     "output_type": "execute_result"
    }
   ],
   "source": [
    "config = ry.Config()\n",
    "config.addFile(\"puzzles/p5-wall-easy.g\")"
   ]
  },
  {
   "cell_type": "code",
   "execution_count": 10,
   "metadata": {},
   "outputs": [
    {
     "name": "stdout",
     "output_type": "stream",
     "text": [
      "['world', 'floor', 'outwall_right', 'outwall_back', 'outwall_left', 'outwall_front', 'sub-goal1', 'world', 'floor', 'outwall_right', 'outwall_back', 'outwall_left', 'outwall_front', 'sub-goal1', 'camera_top', 'egoJoint', 'ego', 'goal', 'goal_visible', 'wall2_h', 'wall8_h', 'obj', 'goalLarge']\n"
     ]
    }
   ],
   "source": [
    "print(config.getFrameNames())"
   ]
  },
  {
   "cell_type": "code",
   "execution_count": 11,
   "metadata": {},
   "outputs": [],
   "source": [
    "EGO_NAME = \"ego\"\n",
    "OBJ_NAME = \"obj\"\n",
    "SUB_GOAL_NAME = \"sub-goal1\"\n",
    "GOAL_NAME = \"goal\"\n",
    "CAMERA_NAME = \"camera_top\"\n",
    "FLOOR_NAME = \"floor\"\n",
    "\n",
    "GAP = config.getFrame(EGO_NAME).getSize()[1] * 3"
   ]
  },
  {
   "cell_type": "code",
   "execution_count": 12,
   "metadata": {},
   "outputs": [],
   "source": [
    "config.view() # somehow it breaks if I don't call this before setting the camera\n",
    "f = config.getFrame('camera_top')\n",
    "config.view_setCamera(f)"
   ]
  },
  {
   "cell_type": "code",
   "execution_count": 6,
   "metadata": {},
   "outputs": [],
   "source": [
    "q_start = config.getFrame(EGO_NAME).getPosition()[:2]\n",
    "q_obj = config.getFrame(OBJ_NAME).getPosition()[:2]\n",
    "q_goal = config.getFrame(GOAL_NAME).getPosition()[:2]"
   ]
  },
  {
   "cell_type": "code",
   "execution_count": 7,
   "metadata": {},
   "outputs": [
    {
     "name": "stdout",
     "output_type": "stream",
     "text": [
      "====nlp==== method:AugmentedLagrangian bounded: yes\n",
      "==nlp== it:0 evals:0 mu:1 nu:1 muLB:0.1 \tlambda:[]\n",
      "{ time: 0.00362, evals: 8, done: 1, feasible: 0, sos: 0, f: 0, ineq: 0, eq: 20 }\n",
      "----newton---- initial point f(x):18115.1 alpha:1 beta:1\n",
      "--newton-- it:   1  |Delta|:        0.2  alpha:          1  evals:   2  f(y):    12405.1  ACCEPT\n",
      "--newton-- it:   2  |Delta|:        0.2  alpha:          1  evals:   3  f(y):    7772.83  ACCEPT\n",
      "--newton-- it:   3  |Delta|:        0.2  alpha:          1  evals:   4  f(y):    4218.41  ACCEPT\n",
      "--newton-- it:   4  |Delta|:        0.2  alpha:          1  evals:   5  f(y):     1741.8  ACCEPT\n",
      "--newton-- it:   5  |Delta|:        0.2  alpha:          1  evals:   6  f(y):    378.626  ACCEPT\n",
      "--newton-- it:   6  |Delta|:        0.2  alpha:          1  evals:   7  f(y):    286.912  ACCEPT\n",
      "--newton-- it:   7  |Delta|:  0.0659197  alpha:          1  evals:   8  f(y):        200  ACCEPT\n",
      "--newton-- it:   8  |Delta|:1.64795e-06 \t -- absMax(Delta)<1e-1*o.stopTolerance -- NO UPDATE\n",
      "==nlp== it:   0  evals:   8  A(x):        200  f:          0  g:          0  h:         20  |x-x'|:    1.04032 \tstop:DeltaConverge \tx:[-0.786782, -1.05]\n",
      "==nlp== it:   1  evals:   8  A(x):       1400  mu:5 \tlambda:[19.9997, -20.0003]\n",
      "--newton-- it:   9  |Delta|:1.97758e-06 \t -- absMax(Delta)<1e-1*o.stopTolerance -- NO UPDATE\n",
      "==nlp== it:   1  evals:   8  A(x):       1400  f:          0  g:          0  h:         20  |x-x'|:          0 \tstop:DeltaConverge \tx:[-0.786782, -1.05]\n",
      "==nlp== StoppingCriterion Delta<0.01\n",
      "----newton---- final f(x):1400\n"
     ]
    }
   ],
   "source": [
    "komo = ry.KOMO(config, phases=1, slicesPerPhase=1, kOrder=1, enableCollisions=True)\n",
    "komo.addObjective([], ry.FS.accumulatedCollisions, [], ry.OT.eq, scale=[1e2])\n",
    "komo.addObjective([], ry.FS.negDistance, [EGO_NAME, OBJ_NAME], ry.OT.eq, [1e2])\n",
    "\n",
    "ret = ry.NLP_Solver(komo.nlp(), verbose=3).solve()\n",
    "print(ret)"
   ]
  },
  {
   "cell_type": "code",
   "execution_count": 58,
   "metadata": {},
   "outputs": [
    {
     "name": "stdout",
     "output_type": "stream",
     "text": [
      "[-0.78454607 -1.14999977]\n"
     ]
    }
   ],
   "source": [
    "config.setJointState(q_start)\n",
    "config.view()\n",
    "print(ret.x)"
   ]
  },
  {
   "cell_type": "code",
   "execution_count": 57,
   "metadata": {},
   "outputs": [],
   "source": [
    "for state in komo.getPath():\n",
    "    config.setJointState(state)\n",
    "    config.view()\n",
    "    time.sleep(1)"
   ]
  },
  {
   "cell_type": "code",
   "execution_count": 38,
   "metadata": {},
   "outputs": [
    {
     "name": "stdout",
     "output_type": "stream",
     "text": [
      "{ time: 0.006769, evals: 15, done: 1, feasible: 0, sos: 0, f: 0, ineq: 0, eq: 1.50214 }\n",
      "====nlp==== method:AugmentedLagrangian bounded: yes\n",
      "==nlp== it:0 evals:0 mu:1 nu:1 muLB:0.1\n",
      "----newton---- initial point f(x):795.56 alpha:1 beta:1\n",
      "--newton-- it:   1  |Delta|:        0.2  alpha:          1  evals:   2  f(y):    685.676  ACCEPT\n",
      "--newton-- it:   2  |Delta|:        0.2  alpha:          1  evals:   3  f(y):    583.975  ACCEPT\n",
      "--newton-- it:   3  |Delta|:        0.2  alpha:          1  evals:   4  f(y):    490.481  ACCEPT\n",
      "--newton-- it:   4  |Delta|:        0.2  alpha:          1  evals:   5  f(y):    405.188  ACCEPT\n",
      "--newton-- it:   5  |Delta|:        0.2  alpha:          1  evals:   6  f(y):    327.391  ACCEPT\n",
      "--newton-- it:   6  |Delta|:        0.2  alpha:          1  evals:   7  f(y):    257.158  ACCEPT\n",
      "--newton-- it:   7  |Delta|:        0.2  alpha:          1  evals:   8  f(y):    195.466  ACCEPT\n",
      "--newton-- it:   8  |Delta|:        0.2  alpha:          1  evals:   9  f(y):      142.3  ACCEPT\n",
      "--newton-- it:   9  |Delta|:        0.2  alpha:          1  evals:  10  f(y):     95.172  ACCEPT\n",
      "--newton-- it:  10  |Delta|:        0.2  alpha:          1  evals:  11  f(y):    55.7739  ACCEPT\n",
      "--newton-- it:  11  |Delta|:        0.2  alpha:          1  evals:  12  f(y):    23.5955  ACCEPT\n",
      "--newton-- it:  12  |Delta|:        0.2  alpha:          1  evals:  13  f(y):    4.82522  ACCEPT\n",
      "--newton-- it:  13  |Delta|:   0.123204  alpha:          1  evals:  14  f(y):    1.13093  ACCEPT\n",
      "--newton-- it:  14  |Delta|:  0.0077071  alpha:          1  evals:  15  f(y):      1.125  ACCEPT\n",
      "--newton-- stopping: 'absMax(Delta)<options.stopTolerance'\n",
      "==nlp== it:   0  evals:  15  A(x):      1.125  f:          0  g:          0  h:    1.50214  |x-x'|:    2.52372 \tstop:DeltaConverge\n",
      "==nlp== it:   1  evals:  15  A(x):    7.87501  mu:5\n",
      "--newton-- it:  15  |Delta|:0.000185613 \t -- absMax(Delta)<1e-1*o.stopTolerance -- NO UPDATE\n",
      "==nlp== it:   1  evals:  15  A(x):    7.87501  f:          0  g:          0  h:    1.50214  |x-x'|:          0 \tstop:DeltaConverge\n",
      "==nlp== StoppingCriterion Delta<0.01\n",
      "----newton---- final f(x):7.87501\n"
     ]
    }
   ],
   "source": [
    "komo = ry.KOMO(config, phases=2, slicesPerPhase=1, kOrder=1, enableCollisions=True)\n",
    "komo.addQuaternionNorms() # what is this?\n",
    "komo.addModeSwitch([1.,-1.], ry.SY.stable, [EGO_NAME, OBJ_NAME], True)\n",
    "komo.addObjective([1.], ry.FS.negDistance, [EGO_NAME, OBJ_NAME], ry.OT.eq, [1e1])\n",
    "komo.addObjective([2.], ry.FS.positionDiff, [OBJ_NAME, GOAL_NAME], ry.OT.eq, [1e1])\n",
    "\n",
    "ret = ry.NLP_Solver(komo.nlp(), verbose=3).solve()\n",
    "print(ret)"
   ]
  },
  {
   "cell_type": "code",
   "execution_count": 39,
   "metadata": {},
   "outputs": [
    {
     "name": "stdout",
     "output_type": "stream",
     "text": [
      "False\n"
     ]
    }
   ],
   "source": [
    "print(config.getCollisionFree())"
   ]
  },
  {
   "cell_type": "code",
   "execution_count": 40,
   "metadata": {},
   "outputs": [],
   "source": [
    "# config.view_close()\n",
    "# del config"
   ]
  },
  {
   "cell_type": "code",
   "execution_count": null,
   "metadata": {},
   "outputs": [],
   "source": []
  }
 ],
 "metadata": {
  "kernelspec": {
   "display_name": "rai_env",
   "language": "python",
   "name": "python3"
  },
  "language_info": {
   "codemirror_mode": {
    "name": "ipython",
    "version": 3
   },
   "file_extension": ".py",
   "mimetype": "text/x-python",
   "name": "python",
   "nbconvert_exporter": "python",
   "pygments_lexer": "ipython3",
   "version": "3.11.10"
  }
 },
 "nbformat": 4,
 "nbformat_minor": 2
}
