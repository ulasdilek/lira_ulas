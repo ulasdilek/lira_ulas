{
 "cells": [
  {
   "cell_type": "code",
   "execution_count": 2,
   "metadata": {},
   "outputs": [],
   "source": [
    "import robotic as ry\n",
    "import numpy as np\n",
    "import time"
   ]
  },
  {
   "cell_type": "code",
   "execution_count": 3,
   "metadata": {},
   "outputs": [
    {
     "data": {
      "text/plain": [
       "<robotic._robotic.Frame at 0x7fe7c49741f0>"
      ]
     },
     "execution_count": 3,
     "metadata": {},
     "output_type": "execute_result"
    }
   ],
   "source": [
    "config = ry.Config()\n",
    "config.addFile(\"puzzles/p5-wall-easy.g\")"
   ]
  },
  {
   "cell_type": "code",
   "execution_count": 4,
   "metadata": {},
   "outputs": [
    {
     "name": "stdout",
     "output_type": "stream",
     "text": [
      "['world', 'floor', 'outwall_right', 'outwall_back', 'outwall_left', 'outwall_front', 'sub-goal1', 'world', 'floor', 'outwall_right', 'outwall_back', 'outwall_left', 'outwall_front', 'sub-goal1', 'camera_top', 'egoJoint', 'ego', 'goal', 'goal_visible', 'wall2_h', 'wall8_h', 'obj', 'goalLarge']\n"
     ]
    }
   ],
   "source": [
    "print(config.getFrameNames())"
   ]
  },
  {
   "cell_type": "code",
   "execution_count": 5,
   "metadata": {},
   "outputs": [],
   "source": [
    "EGO_NAME = \"ego\"\n",
    "OBJ_NAME = \"obj\"\n",
    "SUB_GOAL_NAME = \"sub-goal1\"\n",
    "GOAL_NAME = \"goal\"\n",
    "CAMERA_NAME = \"camera_top\"\n",
    "FLOOR_NAME = \"floor\"\n",
    "\n",
    "GAP = config.getFrame(EGO_NAME).getSize()[1] * 3"
   ]
  },
  {
   "cell_type": "code",
   "execution_count": 6,
   "metadata": {},
   "outputs": [],
   "source": [
    "config.view() # somehow it breaks if I don't call this before setting the camera\n",
    "f = config.getFrame('camera_top')\n",
    "config.view_setCamera(f)"
   ]
  },
  {
   "cell_type": "code",
   "execution_count": null,
   "metadata": {},
   "outputs": [],
   "source": [
    "q_start = config.getFrame(EGO_NAME).getPosition()[:2]\n",
    "q_obj = config.getFrame(OBJ_NAME).getPosition()[:2]\n",
    "q_goal = config.getFrame(GOAL_NAME).getPosition()[:2]"
   ]
  },
  {
   "cell_type": "code",
   "execution_count": 61,
   "metadata": {},
   "outputs": [
    {
     "name": "stdout",
     "output_type": "stream",
     "text": [
      "====nlp==== method:AugmentedLagrangian bounded: yes\n",
      "==nlp== it:0 evals:0 mu:1 nu:1 muLB:0.1 \tlambda:[]\n",
      "----newton---- initial point f(x):0.018542 alpha:1 beta:1\n",
      "--newton-- it:   1  |Delta|:  0.0228933  alpha:          1  evals:   2  f(y):   0.017822  ACCEPT\n",
      "--newton-- stopping: 'absMax(Delta)<options.stopTolerance'\n",
      "==nlp== it:   0  evals:   2  A(x):   0.017822  f:          0  g:          0  h:   0.133499  |x-x'|:  0.0228933 \tstop:DeltaConverge \tx:[0.00645051, -0.02474]\n",
      "==nlp== it:   1  evals:   2  A(x):   0.124754  mu:5 \tlambda:[0, -0.266998]\n",
      "--newton-- it:   2  |Delta|:   0.124872  alpha:          1  evals:   3  f(y):   0.102484  ACCEPT\n",
      "--newton-- it:   3  |Delta|:    0.11352  alpha:          1  evals:   4  f(y):   0.084079  ACCEPT\n",
      "--newton-- it:   4  |Delta|:     0.1032  alpha:          1  evals:   5  f(y):  0.0688681  ACCEPT\n",
      "--newton-- it:   5  |Delta|:  0.0938185  alpha:          1  evals:   6  f(y):  0.0562972  ACCEPT\n",
      "--newton-- it:   6  |Delta|:  0.0852896  alpha:          1  evals:   7  f(y):   0.045908  ACCEPT\n",
      "--newton-- it:   7  |Delta|:   0.077536  alpha:          1  evals:   8  f(y):  0.0373219  ACCEPT\n",
      "--newton-- it:   8  |Delta|:  0.0704872  alpha:          1  evals:   9  f(y):  0.0302259  ACCEPT\n",
      "--newton-- it:   9  |Delta|:  0.0640793  alpha:          1  evals:  10  f(y):  0.0243615  ACCEPT\n",
      "--newton-- it:  10  |Delta|:  0.0582539  alpha:          1  evals:  11  f(y):  0.0195148  ACCEPT\n",
      "--newton-- it:  11  |Delta|:  0.0529581  alpha:          1  evals:  12  f(y):  0.0155093  ACCEPT\n",
      "--newton-- it:  12  |Delta|:  0.0481437  alpha:          1  evals:  13  f(y):   0.012199  ACCEPT\n",
      "--newton-- it:  13  |Delta|:   0.043767  alpha:          1  evals:  14  f(y):  0.0100321  ACCEPT\n",
      "--newton-- it:  14  |Delta|:  0.0258383  alpha:          1  evals:  15  f(y): 0.00921792  ACCEPT\n",
      "--newton-- it:  15  |Delta|:  0.0214745  alpha:          1  evals:  16  f(y):   0.008787  ACCEPT\n",
      "--newton-- it:  16  |Delta|:  0.0179578  alpha:          1  evals:  17  f(y): 0.00848828  ACCEPT\n",
      "--newton-- it:  17  |Delta|:  0.0149017  alpha:          1  evals:  18  f(y): 0.00828398  ACCEPT\n",
      "--newton-- it:  18  |Delta|:  0.0122759  alpha:          1  evals:  19  f(y): 0.00814606  ACCEPT\n",
      "--newton-- it:  19  |Delta|:  0.0100563  alpha:          1  evals:  20  f(y): 0.00805038  ACCEPT\n",
      "--newton-- it:  20  |Delta|:  0.0093224  alpha:          1  evals:  21  f(y):  0.0079633  ACCEPT\n",
      "--newton-- stopping: 'absMax(Delta)<options.stopTolerance'\n",
      "==nlp== it:   1  evals:  21  A(x):  0.0079633  f:          0  g:          0  h:  0.0257737  |x-x'|:   0.929947 \tstop:DeltaConverge \tx:[-0.667085, -0.954687]\n",
      "==nlp== it:   2  evals:  21  A(x):   0.021962  mu:25 \tlambda:[0.0468674, -0.477868]\n",
      "--newton-- it:  21  |Delta|:  0.0295767  alpha:          1  evals:  22  f(y):  0.0209092  ACCEPT\n",
      "--newton-- it:  22  |Delta|:  0.0290342  alpha:          1  evals:  23  f(y):  0.0200609  ACCEPT\n",
      "--newton-- it:  23  |Delta|:  0.0267931  alpha:          1  evals:  24  f(y):  0.0195511  ACCEPT\n",
      "--newton-- it:  24  |Delta|:  0.0107643  alpha:          1  evals:  25  f(y):  0.0194706  ACCEPT\n",
      "--newton-- it:  25  |De{ time: 0.004825, evals: 27, done: 1, feasible: 1, sos: 0, f: 0, ineq: 0, eq: 0.0217819 }\n",
      "lta|: 0.00415993  alpha:          1  evals:  26  f(y):  0.0194586  ACCEPT\n",
      "--newton-- stopping: 'absMax(Delta)<options.stopTolerance'\n",
      "==nlp== it:   2  evals:  26  A(x):  0.0194586  f:          0  g:          0  h:  0.0217986  |x-x'|:   0.100328 \tstop:DeltaConverge \tx:[-0.767413, -0.951997]\n",
      "==nlp== it:   3  evals:  26  A(x):  0.0788729  mu:125 \tlambda:[0.14671, -1.46795]\n",
      "--newton-- it:  26  |Delta|: 0.00697845  alpha:          1  evals:  27  f(y):  0.0788639  ACCEPT\n",
      "--newton-- stopping: 'absMax(Delta)<options.stopTolerance'\n",
      "==nlp== it:   3  evals:  27  A(x):  0.0788639  f:          0  g:          0  h:  0.0217819  |x-x'|: 0.00697845 \tstop:DeltaConverge \tx:[-0.774391, -0.95198]\n",
      "==nlp== StoppingCriterion Delta<0.01\n",
      "----newton---- final f(x):0.0788639\n"
     ]
    }
   ],
   "source": [
    "komo = ry.KOMO(config, phases=1, slicesPerPhase=1, kOrder=1, enableCollisions=True)\n",
    "komo.addObjective([], ry.FS.accumulatedCollisions, [], ry.OT.eq, scale=[1e0])\n",
    "komo.addObjective([], ry.FS.negDistance, [EGO_NAME, OBJ_NAME], ry.OT.eq, [1e-1])\n",
    "\n",
    "ret = ry.NLP_Solver(komo.nlp(), verbose=3).solve()\n",
    "print(ret)"
   ]
  },
  {
   "cell_type": "code",
   "execution_count": null,
   "metadata": {},
   "outputs": [],
   "source": [
    "komo = ry.KOMO(config, phases=2, slicesPerPhase=1, kOrder=1, enableCollisions=True)\n",
    "komo.addQuaternionNorms() # what is this?\n",
    "komo.addModeSwitch([1.,-1.], ry.SY.stable, [EGO_NAME, OBJ_NAME], True)\n",
    "komo.addObjective([1.], ry.FS.negDistance, [EGO_NAME, OBJ_NAME], ry.OT.eq, [1e1])\n",
    "komo.addObjective([2.], ry.FS.positionDiff, [OBJ_NAME, GOAL_NAME], ry.OT.eq, [1e1])\n",
    "\n",
    "ret = ry.NLP_Solver(komo.nlp(), verbose=3).solve()\n",
    "print(ret)"
   ]
  },
  {
   "cell_type": "code",
   "execution_count": 62,
   "metadata": {},
   "outputs": [
    {
     "name": "stdout",
     "output_type": "stream",
     "text": [
      "[[-0.77439134 -0.95197984]]\n"
     ]
    }
   ],
   "source": [
    "config.setJointState(q_start)\n",
    "config.view()\n",
    "print(komo.getPath())"
   ]
  },
  {
   "cell_type": "code",
   "execution_count": 63,
   "metadata": {},
   "outputs": [],
   "source": [
    "for state in komo.getPath():\n",
    "    config.setJointState(state)\n",
    "    config.view()\n",
    "    time.sleep(1)"
   ]
  },
  {
   "cell_type": "code",
   "execution_count": 54,
   "metadata": {},
   "outputs": [
    {
     "name": "stdout",
     "output_type": "stream",
     "text": [
      "False\n"
     ]
    }
   ],
   "source": [
    "print(config.getCollisionFree())"
   ]
  },
  {
   "cell_type": "code",
   "execution_count": 16,
   "metadata": {},
   "outputs": [],
   "source": [
    "config.view_close()\n",
    "del config"
   ]
  },
  {
   "cell_type": "code",
   "execution_count": null,
   "metadata": {},
   "outputs": [],
   "source": []
  }
 ],
 "metadata": {
  "kernelspec": {
   "display_name": "rai_env",
   "language": "python",
   "name": "python3"
  },
  "language_info": {
   "codemirror_mode": {
    "name": "ipython",
    "version": 3
   },
   "file_extension": ".py",
   "mimetype": "text/x-python",
   "name": "python",
   "nbconvert_exporter": "python",
   "pygments_lexer": "ipython3",
   "version": "3.11.10"
  }
 },
 "nbformat": 4,
 "nbformat_minor": 2
}
