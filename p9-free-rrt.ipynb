{
 "cells": [
  {
   "cell_type": "code",
   "execution_count": 1,
   "metadata": {},
   "outputs": [],
   "source": [
    "import robotic as ry\n",
    "import numpy as np\n",
    "import time"
   ]
  },
  {
   "cell_type": "code",
   "execution_count": 2,
   "metadata": {},
   "outputs": [
    {
     "data": {
      "text/plain": [
       "<robotic._robotic.Frame at 0x7fef88456ff0>"
      ]
     },
     "execution_count": 2,
     "metadata": {},
     "output_type": "execute_result"
    }
   ],
   "source": [
    "config = ry.Config()\n",
    "config.addFile(\"puzzles/p9-cube-free.g\")"
   ]
  },
  {
   "cell_type": "code",
   "execution_count": 3,
   "metadata": {},
   "outputs": [
    {
     "name": "stdout",
     "output_type": "stream",
     "text": [
      "['world', 'floor', 'outwall_right', 'outwall_back', 'outwall_left', 'outwall_front', 'sub-goal1', 'world', 'floor', 'outwall_right', 'outwall_back', 'outwall_left', 'outwall_front', 'sub-goal1', 'camera_top', 'egoJoint', 'ego', 'goal', 'goal_visible', 'obj', 'goalLarge']\n"
     ]
    }
   ],
   "source": [
    "print(config.getFrameNames())"
   ]
  },
  {
   "cell_type": "code",
   "execution_count": 4,
   "metadata": {},
   "outputs": [],
   "source": [
    "EGO_NAME = \"ego\"\n",
    "OBJ_NAME = \"obj\"\n",
    "SUB_GOAL_NAME = \"sub-goal1\"\n",
    "GOAL_NAME = \"goal\"\n",
    "CAMERA_NAME = \"camera_top\""
   ]
  },
  {
   "cell_type": "code",
   "execution_count": 5,
   "metadata": {},
   "outputs": [],
   "source": [
    "config.view() # somehow it breaks if I don't call this before setting the camera\n",
    "time.sleep(1.0)\n",
    "f = config.getFrame('camera_top')\n",
    "config.view_setCamera(f)\n",
    "time.sleep(0.5)"
   ]
  },
  {
   "cell_type": "code",
   "execution_count": 6,
   "metadata": {},
   "outputs": [],
   "source": [
    "ry.params_clear()\n",
    "ry.params_add({\n",
    "    \"rrt/stepsize\": 0.05,\n",
    "    \"rrt/verbose\": 3\n",
    "})"
   ]
  },
  {
   "cell_type": "code",
   "execution_count": 7,
   "metadata": {},
   "outputs": [],
   "source": [
    "ATTACHMENT_CONSTANT = 1.02 # to avoid overlapping\n",
    "\n",
    "q_start = config.getFrame(EGO_NAME).getPosition()[:2]\n",
    "q_obj = config.getFrame(OBJ_NAME).getPosition()[:2]\n",
    "q_goal = config.getFrame(GOAL_NAME).getPosition()[:2]\n",
    "\n",
    "goal_to_obj = q_obj - q_goal\n",
    "goal_to_obj /= np.linalg.norm(goal_to_obj) # now normalized\n",
    "slope = goal_to_obj[1] / goal_to_obj[0]\n",
    "\n",
    "ego_radius = config.getFrame(EGO_NAME).getSize()[1]\n",
    "obj_x, obj_y = map(abs, config.getFrame(OBJ_NAME).getSize()[0:2])\n",
    "\n",
    "displacement_length = ego_radius + (obj_x / (2 * abs(goal_to_obj[0])) if abs(slope) <= 1 else obj_y / (2 * abs(goal_to_obj[1])))\n",
    "displacement = goal_to_obj * displacement_length * ATTACHMENT_CONSTANT\n",
    "q_sub_goal = q_obj + displacement"
   ]
  },
  {
   "cell_type": "code",
   "execution_count": 8,
   "metadata": {},
   "outputs": [
    {
     "data": {
      "text/plain": [
       "<robotic._robotic.Frame at 0x7fef88457b30>"
      ]
     },
     "execution_count": 8,
     "metadata": {},
     "output_type": "execute_result"
    }
   ],
   "source": [
    "config.addFrame(\"point\", \"floor\") \\\n",
    "    .setShape(ry.ST.marker, size=[0.2]) \\\n",
    "    .setRelativePosition(q_sub_goal.tolist() + [0.1])"
   ]
  },
  {
   "cell_type": "code",
   "execution_count": 9,
   "metadata": {},
   "outputs": [
    {
     "name": "stdout",
     "output_type": "stream",
     "text": [
      "start: [0. 0.]\n",
      "obj: [ 0.7 -1.2]\n",
      "sub_goal: [ 0.95516541 -1.51063616]\n"
     ]
    }
   ],
   "source": [
    "print(\"start:\", q_start)\n",
    "print(\"obj:\", q_obj)\n",
    "print(\"sub_goal:\", q_sub_goal)"
   ]
  },
  {
   "cell_type": "code",
   "execution_count": 10,
   "metadata": {},
   "outputs": [
    {
     "name": "stdout",
     "output_type": "stream",
     "text": [
      "  -- rrt success: queries:431 tree sizes: 57 30\n",
      "  path-length=49\n"
     ]
    }
   ],
   "source": [
    "# RRT from start to object\n",
    "config.view()\n",
    "\n",
    "rrt = ry.PathFinder()\n",
    "rrt.setProblem(config, [q_start], [q_sub_goal])\n",
    "solution = rrt.solve()\n",
    "\n",
    "path = solution.x\n",
    "del rrt"
   ]
  },
  {
   "cell_type": "code",
   "execution_count": 13,
   "metadata": {},
   "outputs": [],
   "source": [
    "prev_state = q_start\n",
    "for state in path:\n",
    "    config.setJointState(state)\n",
    "    config.view()\n",
    "    time.sleep(3./path.shape[0]) # animate in 3 seconds\n",
    "    prev_state = state"
   ]
  },
  {
   "cell_type": "markdown",
   "metadata": {},
   "source": [
    "**2 code blocks below are for saving rrt path**"
   ]
  },
  {
   "cell_type": "code",
   "execution_count": 12,
   "metadata": {},
   "outputs": [
    {
     "data": {
      "text/plain": [
       "0"
      ]
     },
     "execution_count": 12,
     "metadata": {},
     "output_type": "execute_result"
    }
   ],
   "source": [
    "config.setJointState(q_start)\n",
    "config.view()"
   ]
  },
  {
   "cell_type": "code",
   "execution_count": 36,
   "metadata": {},
   "outputs": [],
   "source": [
    "prev_state = q_start\n",
    "for state in path:\n",
    "    config.addFrame(str(state), \"world\") \\\n",
    "        .setShape(ry.ST.sphere, size=[0.02]) \\\n",
    "        .setRelativePosition(state.tolist() + [0.15]) \\\n",
    "        .setColor([0, 0, 0]) \\\n",
    "        .setContact(0)\n",
    "    prev_state = state\n",
    "\n",
    "config.view()\n",
    "config.view_savePng(\"saves/p9-cube-free-rrt_2\")"
   ]
  },
  {
   "cell_type": "code",
   "execution_count": 14,
   "metadata": {},
   "outputs": [],
   "source": [
    "config.attach(EGO_NAME, OBJ_NAME)"
   ]
  },
  {
   "cell_type": "code",
   "execution_count": 15,
   "metadata": {},
   "outputs": [
    {
     "name": "stdout",
     "output_type": "stream",
     "text": [
      "  -- rrt success: queries:550 tree sizes: 70 69\n",
      "  path-length=89\n"
     ]
    }
   ],
   "source": [
    "# RRT from object to goal\n",
    "q_start = config.getFrame(EGO_NAME).getPosition()[:2]\n",
    "q_goal = q_goal + displacement\n",
    "\n",
    "rrt = ry.PathFinder()\n",
    "rrt.setProblem(config, [q_start], [q_goal])\n",
    "solution = rrt.solve()\n",
    "path = solution.x\n",
    "del rrt"
   ]
  },
  {
   "cell_type": "code",
   "execution_count": 16,
   "metadata": {},
   "outputs": [],
   "source": [
    "for state in path:\n",
    "    config.setJointState(state)\n",
    "    config.view()\n",
    "    time.sleep(3./path.shape[0]) # animate in 3 seconds\n",
    "    prev_state = state"
   ]
  },
  {
   "cell_type": "code",
   "execution_count": 18,
   "metadata": {},
   "outputs": [],
   "source": [
    "config.view_close()\n",
    "del config"
   ]
  },
  {
   "cell_type": "code",
   "execution_count": null,
   "metadata": {},
   "outputs": [],
   "source": []
  }
 ],
 "metadata": {
  "kernelspec": {
   "display_name": "rai_env",
   "language": "python",
   "name": "python3"
  },
  "language_info": {
   "codemirror_mode": {
    "name": "ipython",
    "version": 3
   },
   "file_extension": ".py",
   "mimetype": "text/x-python",
   "name": "python",
   "nbconvert_exporter": "python",
   "pygments_lexer": "ipython3",
   "version": "3.11.10"
  }
 },
 "nbformat": 4,
 "nbformat_minor": 2
}
