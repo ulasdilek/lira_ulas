{
 "cells": [
  {
   "cell_type": "code",
   "execution_count": 1,
   "metadata": {},
   "outputs": [],
   "source": [
    "import robotic as ry\n",
    "import numpy as np\n",
    "import time"
   ]
  },
  {
   "cell_type": "code",
   "execution_count": 2,
   "metadata": {},
   "outputs": [
    {
     "data": {
      "text/plain": [
       "<robotic._robotic.Frame at 0x7f343c063fb0>"
      ]
     },
     "execution_count": 2,
     "metadata": {},
     "output_type": "execute_result"
    }
   ],
   "source": [
    "config = ry.Config()\n",
    "config.addFile(\"puzzles/p9-cube-free.g\")"
   ]
  },
  {
   "cell_type": "code",
   "execution_count": 3,
   "metadata": {},
   "outputs": [
    {
     "name": "stdout",
     "output_type": "stream",
     "text": [
      "['world', 'floor', 'outwall_right', 'outwall_back', 'outwall_left', 'outwall_front', 'sub-goal1', 'world', 'floor', 'outwall_right', 'outwall_back', 'outwall_left', 'outwall_front', 'sub-goal1', 'camera_top', 'egoJoint', 'ego', 'goal', 'goal_visible', 'obj', 'goalLarge']\n"
     ]
    }
   ],
   "source": [
    "print(config.getFrameNames())"
   ]
  },
  {
   "cell_type": "code",
   "execution_count": 4,
   "metadata": {},
   "outputs": [],
   "source": [
    "EGO_NAME = \"ego\"\n",
    "OBJ_NAME = \"obj\"\n",
    "SUB_GOAL_NAME = \"sub-goal1\"\n",
    "GOAL_NAME = \"goal\"\n",
    "CAMERA_NAME = \"camera_top\"\n",
    "FLOOR_NAME = \"floor\"\n",
    "\n",
    "GAP = config.getFrame(EGO_NAME).getSize()[1] * 3"
   ]
  },
  {
   "cell_type": "code",
   "execution_count": 5,
   "metadata": {},
   "outputs": [],
   "source": [
    "config.view() # somehow it breaks if I don't call this before setting the camera\n",
    "f = config.getFrame('camera_top')\n",
    "config.view_setCamera(f)"
   ]
  },
  {
   "cell_type": "code",
   "execution_count": 6,
   "metadata": {},
   "outputs": [],
   "source": [
    "ry.params_clear()\n",
    "ry.params_add({\n",
    "    \"rrt/stepsize\": 0.05,\n",
    "    \"rrt/verbose\": 2\n",
    "})"
   ]
  },
  {
   "cell_type": "code",
   "execution_count": 7,
   "metadata": {},
   "outputs": [],
   "source": [
    "q_start = config.getFrame(EGO_NAME).getPosition()[:2]\n",
    "q_obj = config.getFrame(OBJ_NAME).getPosition()[:2]\n",
    "q_goal = config.getFrame(GOAL_NAME).getPosition()[:2]"
   ]
  },
  {
   "cell_type": "code",
   "execution_count": 8,
   "metadata": {},
   "outputs": [],
   "source": [
    "def cartesian_to_polar(coordinates):\n",
    "    x = coordinates[0]\n",
    "    y = coordinates[1]\n",
    "    r = np.hypot(x, y)\n",
    "    theta = np.arctan2(y, x)\n",
    "    return r, theta"
   ]
  },
  {
   "cell_type": "code",
   "execution_count": 9,
   "metadata": {},
   "outputs": [],
   "source": [
    "def polar_to_cartesian(coordinates):\n",
    "    r = coordinates[0]\n",
    "    theta = coordinates[1]\n",
    "    x = r * np.cos(theta)\n",
    "    y = r * np.sin(theta)\n",
    "    return x, y"
   ]
  },
  {
   "cell_type": "code",
   "execution_count": 10,
   "metadata": {},
   "outputs": [],
   "source": [
    "def solve_touch_with_komo():\n",
    "    komo = ry.KOMO(config, phases=1, slicesPerPhase=1, kOrder=0, enableCollisions=False)\n",
    "    komo.addObjective([], ry.FS.negDistance, [EGO_NAME, OBJ_NAME], ry.OT.eq, [1e1])\n",
    "    ret = ry.NLP_Solver(komo.nlp(), verbose=3).solve()\n",
    "    if ret:\n",
    "        path = komo.getPath()\n",
    "        return path\n",
    "    else:\n",
    "        return None"
   ]
  },
  {
   "cell_type": "code",
   "execution_count": 11,
   "metadata": {},
   "outputs": [],
   "source": [
    "def solve_ik_with_komo(q_home, q_target):\n",
    "    komo = ry.KOMO(config, phases=1, slicesPerPhase=1, kOrder=0, enableCollisions=False)\n",
    "    komo.addObjective([], ry.FS.position, [EGO_NAME, OBJ_NAME], ry.OT.eq, [1e1])\n",
    "    ret = ry.NLP_Solver(komo.nlp(), verbose=3).solve()\n",
    "    if ret:\n",
    "        path = komo.getPath()\n",
    "        return path\n",
    "    else:\n",
    "        return None"
   ]
  },
  {
   "cell_type": "code",
   "execution_count": 11,
   "metadata": {},
   "outputs": [],
   "source": [
    "def solve_rrt(q_start, q_obj, q_goal):\n",
    "    ITERATIONS = 24\n",
    "    delta_theta = 2 * np.pi / ITERATIONS\n",
    "    for i in range(ITERATIONS):\n",
    "        transpose_polar1 = np.array([GAP, i * delta_theta])\n",
    "        transpose_cartesian1 = np.array(polar_to_cartesian(transpose_polar1))\n",
    "        q_home1 = q_obj + transpose_cartesian1\n",
    "        config.setJointState(q_home1)\n",
    "        q_subgoal = solve_touch_with_komo()\n",
    "        if q_subgoal is not None:\n",
    "            config.setJointState(q_start)\n",
    "            rrt = ry.PathFinder()\n",
    "            rrt.setProblem(config, [q_start], [q_subgoal])\n",
    "            solution1 = rrt.solve()\n",
    "            del rrt\n",
    "            \n",
    "            config.setJointState(q_subgoal)\n",
    "            config.attach(EGO_NAME, OBJ_NAME)\n",
    "            q_real_goal = q_goal + q_subgoal - q_obj\n",
    "\n",
    "            rrt = ry.PathFinder()\n",
    "            rrt.setProblem(config, [q_subgoal], [q_real_goal])\n",
    "            solution2 = rrt.solve()\n",
    "            config.getFrame(OBJ_NAME).unLink()\n",
    "            config.setJointState(q_start)\n",
    "            config.view()\n",
    "            if solution1.feasible and solution2.feasible:\n",
    "                return q_subgoal, solution1, solution2\n",
    "\n",
    "    config.setJointState(q_start)            \n",
    "    return None, None, None"
   ]
  },
  {
   "cell_type": "code",
   "execution_count": 12,
   "metadata": {},
   "outputs": [
    {
     "name": "stdout",
     "output_type": "stream",
     "text": [
      "====nlp==== method:AugmentedLagrangian bounded: yes\n",
      "==nlp== it:0 evals:0 mu:1 nu:1 muLB:0.1 \tlambda:[]\n",
      "----newton---- initial point f(x):6.37627 alpha:1 beta:1\n",
      "--newton-- it:   1  |Delta|:        0.2  alpha:          1  evals:   2  f(y):   0.275759  ACCEPT\n",
      "--newton-- it:   2  |Delta|:  0.0522515  alpha:          1  evals:   3  f(y):6.82555e-06  ACCEPT\n",
      "--newton-- it:   3  |Delta|:0.000259958 \t -- absMax(Delta)<1e-1*o.stopTolerance -- NO UPDATE\n",
      "==nlp== it:   0  evals:   3  A(x):6.82555e-06  f:          0  g:          0  h: 0.00261257  |x-x'|:   0.252251 \tstop:DeltaConverge \tx:[1.25026, -1.50968]\n",
      "==nlp== it:   1  evals:   3  A(x):4.77788e-05  mu:5 \tlambda:[-0.00522515]\n",
      "--newton-- it:   4  |Delta|:0.000313196 \t -- absMax(Delta)<1e-1*o.stopTolerance -- NO UPDATE\n",
      "==nlp== it:   1  evals:   3  A(x):4.77788e-05  f:          0  g:          0  h: 0.00261257  |x-x'|:          0 \tstop:DeltaConverge \tx:[1.25026, -1.50968]\n",
      "==nlp== StoppingCriterion Delta<0.01\n",
      "----newton---- final f(x):4.77788e-05\n",
      "  -- rrt success: queries:480 tree sizes: 80 22\n",
      "  path-length=48\n",
      "  -- rrt success: queries:482 tree sizes: 61 61\n",
      "  path-length=89\n"
     ]
    }
   ],
   "source": [
    "# RRT from start to object\n",
    "q_subgoal, solution1, solution2 = solve_rrt(q_start, q_obj, q_goal)"
   ]
  },
  {
   "cell_type": "code",
   "execution_count": 13,
   "metadata": {},
   "outputs": [],
   "source": [
    "for state in solution1.x:\n",
    "    prev_state = state\n",
    "\n",
    "    config.setJointState(state)\n",
    "    config.view()\n",
    "    time.sleep(3./solution1.x.shape[0]) # animate in 3 seconds"
   ]
  },
  {
   "cell_type": "code",
   "execution_count": 14,
   "metadata": {},
   "outputs": [],
   "source": [
    "config.attach(EGO_NAME, OBJ_NAME)\n",
    "\n",
    "# TODO try to use KOMO touch - stable constraints\n",
    "# touch -> negDistance\n",
    "# stable -> self.komo.addModeSwitch([1.,-1.], ry.SY.stable, [gripper, obj], True)\n",
    "# \n",
    "# KOMO/verbose ile oyna\n",
    "# komo.report()"
   ]
  },
  {
   "cell_type": "code",
   "execution_count": 15,
   "metadata": {},
   "outputs": [],
   "source": [
    "for state in solution2.x:\n",
    "    prev_state = state\n",
    "\n",
    "    config.setJointState(state)\n",
    "    config.view()\n",
    "    time.sleep(3./solution2.x.shape[0]) # animate in 3 seconds"
   ]
  },
  {
   "cell_type": "code",
   "execution_count": 16,
   "metadata": {},
   "outputs": [],
   "source": [
    "config.view_close()\n",
    "del config"
   ]
  },
  {
   "cell_type": "code",
   "execution_count": null,
   "metadata": {},
   "outputs": [],
   "source": []
  }
 ],
 "metadata": {
  "kernelspec": {
   "display_name": "rai_env",
   "language": "python",
   "name": "python3"
  },
  "language_info": {
   "codemirror_mode": {
    "name": "ipython",
    "version": 3
   },
   "file_extension": ".py",
   "mimetype": "text/x-python",
   "name": "python",
   "nbconvert_exporter": "python",
   "pygments_lexer": "ipython3",
   "version": "3.11.10"
  }
 },
 "nbformat": 4,
 "nbformat_minor": 2
}
