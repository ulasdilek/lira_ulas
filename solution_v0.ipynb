{
 "cells": [
  {
   "cell_type": "code",
   "execution_count": 1,
   "metadata": {},
   "outputs": [],
   "source": [
    "import robotic as ry\n",
    "import numpy as np\n",
    "import time"
   ]
  },
  {
   "cell_type": "code",
   "execution_count": 2,
   "metadata": {},
   "outputs": [
    {
     "data": {
      "text/plain": [
       "<robotic._robotic.Frame at 0x7f6b76b34630>"
      ]
     },
     "execution_count": 2,
     "metadata": {},
     "output_type": "execute_result"
    }
   ],
   "source": [
    "config = ry.Config()\n",
    "config.addFile(\"puzzles/p5-wall-easy.g\")"
   ]
  },
  {
   "cell_type": "code",
   "execution_count": 3,
   "metadata": {},
   "outputs": [],
   "source": [
    "DEBUG_MODE = False"
   ]
  },
  {
   "cell_type": "code",
   "execution_count": 4,
   "metadata": {},
   "outputs": [],
   "source": [
    "EGO_NAME = \"ego\"\n",
    "OBJ_NAME = \"obj\"\n",
    "SUB_GOAL_NAME = \"sub-goal1\"\n",
    "GOAL_NAME = \"goal\"\n",
    "CAMERA_NAME = \"camera_top\"\n",
    "FLOOR_NAME = \"floor\"\n",
    "\n",
    "GAP = config.getFrame(EGO_NAME).getSize()[1] * 2"
   ]
  },
  {
   "cell_type": "code",
   "execution_count": 5,
   "metadata": {},
   "outputs": [],
   "source": [
    "config.view()\n",
    "f = config.getFrame(CAMERA_NAME)\n",
    "config.view_setCamera(f)"
   ]
  },
  {
   "cell_type": "code",
   "execution_count": 6,
   "metadata": {},
   "outputs": [],
   "source": [
    "q_start = config.getFrame(EGO_NAME).getPosition()[:2]\n",
    "q_obj = config.getFrame(OBJ_NAME).getPosition()[:2]\n",
    "q_goal = config.getFrame(GOAL_NAME).getPosition()[:2]"
   ]
  },
  {
   "cell_type": "code",
   "execution_count": 7,
   "metadata": {},
   "outputs": [],
   "source": [
    "def is_in_line_of_sight(position : np.array, target_frame : ry.Frame, config : ry.Config) -> bool:\n",
    "    frame_position = target_frame.getPosition()\n",
    "    frame_size = target_frame.getSize()\n",
    "    frame_hypotenuse = np.sqrt(frame_size[0]**2 + frame_size[1]**2)\n",
    "\n",
    "    sight_ray = frame_position[:2]  - position\n",
    "    alpha = np.arctan2(sight_ray[1], sight_ray[0])\n",
    "    theta = abs(alpha)\n",
    "\n",
    "    offset = frame_hypotenuse / 2 # can be made more precise\n",
    "\n",
    "    box_length = np.sqrt(sight_ray[0]**2 + sight_ray[1]**2) - 2 * offset\n",
    "    box_width = frame_hypotenuse * max(\n",
    "        np.cos(np.pi/4 - theta),\n",
    "        np.sin(theta - np.pi/4)\n",
    "    )\n",
    "    box_height = .2\n",
    "\n",
    "    box_x = position[0] + sight_ray[0]/2\n",
    "    box_y = position[1] + sight_ray[1]/2\n",
    "    box_z = 0.3\n",
    "    box_yaw = alpha\n",
    "\n",
    "    copy_config = ry.Config()\n",
    "    copy_config.addConfigurationCopy(config)\n",
    "    copy_config.addFrame(\"line_of_sight\") \\\n",
    "        .setShape(ry.ST.box, [box_length, box_width, box_height]) \\\n",
    "        .setContact(1) \\\n",
    "        .setColor([1, 1, 1]) \\\n",
    "        .setPose(f\"t({box_x} {box_y} {box_z}) E(0 0 {box_yaw})\")\n",
    "    copy_config.addFrame(\"point_A\") \\\n",
    "        .setShape(ry.ST.marker, [.2]) \\\n",
    "        .setPosition(frame_position)\n",
    "    copy_config.addFrame(\"point_B\") \\\n",
    "        .setShape(ry.ST.marker, [.2]) \\\n",
    "        .setPosition(list(position) + [0.3])\n",
    "    \n",
    "    if DEBUG_MODE:\n",
    "        copy_config.view_setCamera(copy_config.getFrame('camera_top'))\n",
    "        copy_config.view(pause=True, message=f\"box_width: {box_width:.2f}, alpha: {alpha/np.pi*180}, line: {sight_ray}\")\n",
    "        copy_config.view_close()\n",
    "\n",
    "    is_in_sight = copy_config.getCollisionFree()\n",
    "    del copy_config\n",
    "    return is_in_sight"
   ]
  },
  {
   "cell_type": "code",
   "execution_count": 8,
   "metadata": {},
   "outputs": [],
   "source": [
    "def cartesian_to_polar(coordinates):\n",
    "    x = coordinates[0]\n",
    "    y = coordinates[1]\n",
    "    r = np.hypot(x, y)\n",
    "    theta = np.arctan2(y, x)\n",
    "    return r, theta"
   ]
  },
  {
   "cell_type": "code",
   "execution_count": 9,
   "metadata": {},
   "outputs": [],
   "source": [
    "def polar_to_cartesian(coordinates):\n",
    "    r = coordinates[0]\n",
    "    theta = coordinates[1]\n",
    "    x = r * np.cos(theta)\n",
    "    y = r * np.sin(theta)\n",
    "    return x, y"
   ]
  },
  {
   "cell_type": "code",
   "execution_count": 10,
   "metadata": {},
   "outputs": [],
   "source": [
    "def solve_touch_with_komo(komo_config):\n",
    "    komo = ry.KOMO(komo_config, phases=1, slicesPerPhase=1, kOrder=0, enableCollisions=True)\n",
    "    komo.addObjective([], ry.FS.accumulatedCollisions, [], ry.OT.eq, scale=[1e1])\n",
    "    komo.addObjective([], ry.FS.negDistance, [EGO_NAME, OBJ_NAME], ry.OT.eq, [1e1])\n",
    "    ret = ry.NLP_Solver(komo.nlp(), verbose=1).solve()\n",
    "    if ret:\n",
    "        path = komo.getPath()\n",
    "        return path\n",
    "    else:\n",
    "        return None"
   ]
  },
  {
   "cell_type": "code",
   "execution_count": 11,
   "metadata": {},
   "outputs": [],
   "source": [
    "ry.params_clear()\n",
    "ry.params_add({\n",
    "    \"rrt/stepsize\": 0.05,\n",
    "    \"rrt/verbose\": 1\n",
    "})\n",
    "\n",
    "def solve_rrt(cur_config : ry.Config, q_begin : np.array, q_object : np.array, q_target : np.array):\n",
    "    ITERATIONS = 24\n",
    "    delta_theta = 2 * np.pi / ITERATIONS\n",
    "    for i in range(ITERATIONS):\n",
    "        transpose_polar1 = np.array([GAP, i * delta_theta])\n",
    "        transpose_cartesian1 = np.array(polar_to_cartesian(transpose_polar1))\n",
    "        q_home1 = q_object + transpose_cartesian1\n",
    "        cur_config.setJointState(q_home1)\n",
    "        q_sub = solve_touch_with_komo(cur_config)\n",
    "        if q_sub is not None:\n",
    "            cur_config.setJointState(q_begin)\n",
    "            rrt = ry.PathFinder()\n",
    "            rrt.setProblem(cur_config, [q_begin], [q_sub])\n",
    "            solution1 = rrt.solve()\n",
    "            del rrt\n",
    "            \n",
    "            cur_config.setJointState(q_sub)\n",
    "            cur_config.attach(EGO_NAME, OBJ_NAME)\n",
    "            q_real_goal = q_target + q_sub - q_object\n",
    "\n",
    "            rrt = ry.PathFinder()\n",
    "            rrt.setProblem(cur_config, [q_sub], [q_real_goal])\n",
    "            solution2 = rrt.solve()\n",
    "            cur_config.attach(FLOOR_NAME, OBJ_NAME)\n",
    "            cur_config.setJointState(q_begin)\n",
    "            cur_config.view()\n",
    "            if solution1.feasible and solution2.feasible:\n",
    "                return solution1, solution2\n",
    "\n",
    "    cur_config.setJointState(q_begin)            \n",
    "    return None, None"
   ]
  },
  {
   "cell_type": "code",
   "execution_count": 12,
   "metadata": {},
   "outputs": [],
   "source": [
    "def get_proximity_score(position : np.array, goal_frame : ry.Frame) -> int:\n",
    "    distance = np.linalg.norm(position - goal_frame.getPosition()[:2])\n",
    "    if distance < 0.2:\n",
    "        return 5\n",
    "    elif distance < 0.4:\n",
    "        return 2\n",
    "    else:\n",
    "        return 0"
   ]
  },
  {
   "cell_type": "code",
   "execution_count": 13,
   "metadata": {},
   "outputs": [],
   "source": [
    "def get_subgoal_score(\n",
    "        subgoal_position : np.array,\n",
    "        agent_frame : ry.Frame,\n",
    "        goal_frame : ry.Frame,\n",
    "        config : ry.Config) -> int:\n",
    "    return 10 * int(is_in_line_of_sight(subgoal_position, goal_frame, config)) \\\n",
    "        + 5 * int(is_in_line_of_sight(subgoal_position, agent_frame, config)) \\\n",
    "        + get_proximity_score(subgoal_position, goal_frame)"
   ]
  },
  {
   "cell_type": "code",
   "execution_count": 20,
   "metadata": {},
   "outputs": [],
   "source": [
    "def select_node(configs : list) -> ry.Config:\n",
    "    best_score = 0\n",
    "    config_index = 0\n",
    "    best_config = configs[config_index]\n",
    "    for i in range(len(configs)):\n",
    "        sample_config = configs[i]\n",
    "        score = get_subgoal_score(sample_config.getFrame(OBJ_NAME).getPosition()[:2], \n",
    "                                  sample_config.getFrame(EGO_NAME),\n",
    "                                  sample_config.getFrame(GOAL_NAME),\n",
    "                                  sample_config)\n",
    "        if score > best_score:\n",
    "            best_score = score\n",
    "            best_config = sample_config\n",
    "            config_index = i\n",
    "    return best_config, config_index"
   ]
  },
  {
   "cell_type": "code",
   "execution_count": null,
   "metadata": {},
   "outputs": [],
   "source": [
    "def solve(config : ry.Config, goal_frame : ry.Frame) -> list:\n",
    "    # TODO implement solve function\n",
    "    return None"
   ]
  },
  {
   "cell_type": "code",
   "execution_count": null,
   "metadata": {},
   "outputs": [],
   "source": [
    "# return the path to the goal\n",
    "def sub_solve(config : ry.Config, goal_frame : ry.Frame) -> list:\n",
    "    # TODO implement sub_solve function\n",
    "    return None"
   ]
  },
  {
   "cell_type": "code",
   "execution_count": 15,
   "metadata": {},
   "outputs": [],
   "source": [
    "def reachable(reach_config : ry.Config, object_frame : ry.Frame) -> bool:\n",
    "    copy_config = ry.Config()\n",
    "    copy_config.addConfigurationCopy(reach_config)\n",
    "    copy_config.getFrame(OBJ_NAME).setContact(0)\n",
    "    rrt = ry.PathFinder()\n",
    "    rrt.setProblem(copy_config, [copy_config.getJointState()], [object_frame.getPosition[:2]])\n",
    "    ret = rrt.solve()\n",
    "    del rrt\n",
    "    del copy_config\n",
    "    return ret.feasible"
   ]
  },
  {
   "cell_type": "code",
   "execution_count": 16,
   "metadata": {},
   "outputs": [],
   "source": [
    "POINT_COUNT = 200\n",
    "THRESHOLD = 5\n",
    "SUBSET_SIZE = 20\n",
    "def propose_subgoals(config : ry.Config, object_frame : ry.Frame) -> list:\n",
    "    generated_points = np.random.uniform(low=-2, high=2, size=(POINT_COUNT, 2)) # random point sampling\n",
    "\n",
    "    filtered_points = []\n",
    "    for point in generated_points:\n",
    "        config.getFrame(SUB_GOAL_NAME).setPosition([point[0], point[1], 0.15])\n",
    "        score = get_subgoal_score(point, config.getFrame(EGO_NAME), config.getFrame(GOAL_NAME), config)\n",
    "        if score >= THRESHOLD:\n",
    "            filtered_points.append(point)\n",
    "\n",
    "    points_array = np.array(filtered_points)\n",
    "    subset_size = min(len(filtered_points), SUBSET_SIZE)\n",
    "    point_subset = points_array[np.random.choice(points_array.shape[0], size=subset_size, replace=False)]\n",
    "    point_subset += object_frame.getPosition()[:2]\n",
    "    return point_subset"
   ]
  },
  {
   "cell_type": "code",
   "execution_count": null,
   "metadata": {},
   "outputs": [],
   "source": [
    "subgoals = propose_subgoals(config, config.getFrame(OBJ_NAME))\n",
    "count = 0\n",
    "start_configs = []\n",
    "for subgoal in subgoals:\n",
    "    count+=1\n",
    "    subgoal_position = config.getFrame(SUB_GOAL_NAME).getPosition()\n",
    "    subgoal_position[:2] = subgoal\n",
    "    config.getFrame(SUB_GOAL_NAME).setPosition(subgoal_position)\n",
    "    solution1, solution2 = solve_rrt(config, q_start, q_obj, subgoal)\n",
    "    if solution1 is not None:\n",
    "        start_configs.append([solution1, solution2])\n",
    "    \n",
    "print(f\"available subgoals: {len(start_configs)}\")"
   ]
  },
  {
   "cell_type": "code",
   "execution_count": null,
   "metadata": {},
   "outputs": [],
   "source": [
    "final_solution = []\n",
    "for initial_config in start_configs:\n",
    "    copy_config = ry.Config()\n",
    "    copy_config.addConfigurationCopy(config)\n",
    "    copy_config.setJointState(initial_config[0].x[-1])\n",
    "    copy_config.attach(EGO_NAME, OBJ_NAME)\n",
    "    copy_config.setJointState(initial_config[1].x[-1])\n",
    "    copy_config.attach(FLOOR_NAME, OBJ_NAME)\n",
    "    solution1, solution2 = solve_rrt(copy_config,\n",
    "                copy_config.getJointState(),\n",
    "                copy_config.getFrame(OBJ_NAME).getPosition()[:2],\n",
    "                q_goal)\n",
    "    if solution1 is not None:\n",
    "        final_solution.extend([initial_config[0], initial_config[1], solution1, solution2])\n",
    "        del copy_config\n",
    "        break\n",
    "    del copy_config\n",
    "\n",
    "if len(final_solution) == 0:\n",
    "    print(\"No solution found\")\n"
   ]
  },
  {
   "cell_type": "code",
   "execution_count": 17,
   "metadata": {},
   "outputs": [],
   "source": [
    "def animate_solution(anim_config, solution):\n",
    "    for state in solution.x:\n",
    "        anim_config.setJointState(state)\n",
    "        anim_config.view()\n",
    "        time.sleep(0.025)"
   ]
  },
  {
   "cell_type": "code",
   "execution_count": null,
   "metadata": {},
   "outputs": [],
   "source": [
    "parity = True\n",
    "for step in final_solution:\n",
    "    animate_solution(config, step)\n",
    "    if parity:\n",
    "        config.attach(EGO_NAME, OBJ_NAME)\n",
    "    else:\n",
    "        config.attach(FLOOR_NAME, OBJ_NAME)\n",
    "    parity = not parity"
   ]
  },
  {
   "cell_type": "code",
   "execution_count": 22,
   "metadata": {},
   "outputs": [],
   "source": [
    "# forward subproblem search algorithm\n",
    "objects = [OBJ_NAME]\n",
    "def forward_subproblem_search(start_config : ry.Config, goal_frame : ry.Frame):\n",
    "    L = [start_config]\n",
    "    while len(L) > 0:\n",
    "        x, index = select_node(L)\n",
    "        L.pop(index)\n",
    "        solution1, solution2 = solve_rrt(x,\n",
    "                                         x.getJointState(),\n",
    "                                         x.getFrame(OBJ_NAME).getPosition()[:2],\n",
    "                                         goal_frame.getPosition()[:2])\n",
    "        if solution1 is not None: # if found\n",
    "            return x, solution1, solution2\n",
    "        \n",
    "        for object in objects: # there is just one object for now\n",
    "            object_frame = x.getFrame(object)\n",
    "            if not reachable(x, object_frame):\n",
    "                continue\n",
    "            subgoals = propose_subgoals(x, object_frame)\n",
    "            for subgoal in subgoals:\n",
    "                new_config = ry.Config()\n",
    "                new_config.addConfigurationCopy(x)\n",
    "                new_config.getFrame(SUB_GOAL_NAME).setPosition(subgoal + [0.15])\n",
    "                path1, path2 = solve_rrt(new_config, new_config.getJointState(), object_frame.getPosition()[:2], subgoal)\n",
    "                # if path found and not rej(L, x^f) then\n",
    "                if path1 is not None:\n",
    "                    new_config.setJointState(path1.x[-1])\n",
    "                    new_config.attach(EGO_NAME, OBJ_NAME)\n",
    "                    new_config.setJointState(path2.x[-1])\n",
    "                    new_config.attach(FLOOR_NAME, OBJ_NAME)\n",
    "                    L.append(new_config) # add last elememnt of path to L\n",
    "    return None, None, None"
   ]
  },
  {
   "cell_type": "code",
   "execution_count": 23,
   "metadata": {},
   "outputs": [
    {
     "name": "stdout",
     "output_type": "stream",
     "text": [
      "====nlp==== method:AugmentedLagrangian bounded: yes\n",
      "==nlp== it:0 evals:0 mu:1 nu:1 muLB:0.1 \tlambda:[]\n",
      "==nlp== it:   0  evals:   2  A(x):6.82555e-06  f:          0  g:          0  h: 0.00261257  |x-x'|:  0.0522515 \tstop:DeltaConverge \tx:[-0.549739, -1.50968]\n",
      "==nlp== it:   1  evals:   2  A(x):4.77788e-05  mu:5 \tlambda:[0, -0.00522515]\n",
      "==nlp== it:   1  evals:   2  A(x):4.77788e-05  f:          0  g:          0  h: 0.00261257  |x-x'|:          0 \tstop:DeltaConverge \tx:[-0.549739, -1.50968]\n",
      "==nlp== StoppingCriterion Delta<0.01\n",
      "  -- rrt success: queries:2361 tree sizes: 247 146\n",
      "  -- rrt success: queries:6272 tree sizes: 129 385\n"
     ]
    }
   ],
   "source": [
    "solution_config, path1, path2 = forward_subproblem_search(config, config.getFrame(GOAL_NAME))\n",
    "if solution_config is not None:\n",
    "    animate_solution(config, path1)\n",
    "    config.attach(EGO_NAME, OBJ_NAME)\n",
    "    animate_solution(config, path2)\n",
    "    config.attach(FLOOR_NAME, OBJ_NAME)"
   ]
  },
  {
   "cell_type": "code",
   "execution_count": 24,
   "metadata": {},
   "outputs": [],
   "source": [
    "config.view_close()\n",
    "del config"
   ]
  },
  {
   "cell_type": "code",
   "execution_count": null,
   "metadata": {},
   "outputs": [],
   "source": []
  }
 ],
 "metadata": {
  "kernelspec": {
   "display_name": "rai_env",
   "language": "python",
   "name": "python3"
  },
  "language_info": {
   "codemirror_mode": {
    "name": "ipython",
    "version": 3
   },
   "file_extension": ".py",
   "mimetype": "text/x-python",
   "name": "python",
   "nbconvert_exporter": "python",
   "pygments_lexer": "ipython3",
   "version": "3.11.10"
  }
 },
 "nbformat": 4,
 "nbformat_minor": 2
}
