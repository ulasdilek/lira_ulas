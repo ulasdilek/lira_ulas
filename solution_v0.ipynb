{
 "cells": [
  {
   "cell_type": "code",
   "execution_count": null,
   "metadata": {},
   "outputs": [],
   "source": [
    "import robotic as ry\n",
    "import numpy as np\n",
    "import time"
   ]
  },
  {
   "cell_type": "code",
   "execution_count": null,
   "metadata": {},
   "outputs": [],
   "source": [
    "config = ry.Config()\n",
    "config.addFile(\"puzzles/p5-wall-easy.g\")"
   ]
  },
  {
   "cell_type": "code",
   "execution_count": null,
   "metadata": {},
   "outputs": [],
   "source": [
    "EGO_NAME = \"ego\"\n",
    "OBJ_NAME = \"obj\"\n",
    "SUB_GOAL_NAME = \"sub-goal1\"\n",
    "GOAL_NAME = \"goal\"\n",
    "CAMERA_NAME = \"camera_top\"\n",
    "FLOOR_NAME = \"floor\""
   ]
  },
  {
   "cell_type": "code",
   "execution_count": null,
   "metadata": {},
   "outputs": [],
   "source": [
    "config.view()\n",
    "f = config.getFrame('camera_top')\n",
    "config.view_setCamera(f)"
   ]
  },
  {
   "cell_type": "code",
   "execution_count": null,
   "metadata": {},
   "outputs": [],
   "source": [
    "q_start = config.getFrame(EGO_NAME).getPosition()[:2]\n",
    "q_obj = config.getFrame(OBJ_NAME).getPosition()[:2]\n",
    "q_goal = config.getFrame(GOAL_NAME).getPosition()[:2]"
   ]
  },
  {
   "cell_type": "code",
   "execution_count": null,
   "metadata": {},
   "outputs": [],
   "source": [
    "def is_in_line_of_sight(position : np.array, target_frame : ry.Frame, config : ry.Config) -> bool:\n",
    "    sight_ray = target_frame.getPosition()[:2] - position\n",
    "    copy_config = config.copy()\n",
    "    # TODO make the sphere bigger\n",
    "    copy_config.addFrame(\"point_check\") \\\n",
    "        .setShape(ry.ST.sphere, [.1]) \\\n",
    "        .setPosition(position.tolist() + [0.02]) \n",
    "    \n",
    "    # lerp the ray to the target from object\n",
    "    is_in_sight = True\n",
    "    t = 0.0\n",
    "    while t < 0.95:\n",
    "        t += 0.05\n",
    "        point = position + t * sight_ray\n",
    "        copy_config.getFrame(\"point_check\").setPosition(point.tolist() + [0.02])\n",
    "        if copy_config.getCollisionFree() == False:\n",
    "            is_in_sight = False\n",
    "            break\n",
    "        \n",
    "    del copy_config\n",
    "    return is_in_sight"
   ]
  },
  {
   "cell_type": "code",
   "execution_count": null,
   "metadata": {},
   "outputs": [],
   "source": [
    "def get_proximity_score(position : np.array, goal_frame : ry.Frame) -> int:\n",
    "    distance = np.linalg.norm(position - goal_frame.getPosition()[:2])\n",
    "    if distance < 0.2:\n",
    "        return 5\n",
    "    elif distance < 0.4:\n",
    "        return 2\n",
    "    else:\n",
    "        return 0"
   ]
  },
  {
   "cell_type": "code",
   "execution_count": null,
   "metadata": {},
   "outputs": [],
   "source": [
    "def get_subgoal_score(\n",
    "        position : np.array,\n",
    "        agent_frame : ry.Frame,\n",
    "        goal_frame : ry.Frame,\n",
    "        config : ry.Config) -> int:\n",
    "    return 10 * int(is_in_line_of_sight(position, goal_frame, config)) + 5 * int(is_in_line_of_sight(position, agent_frame, config)) + get_proximity_score(position, goal_frame)"
   ]
  },
  {
   "cell_type": "code",
   "execution_count": null,
   "metadata": {},
   "outputs": [],
   "source": [
    "def select_node(configs : list) -> int:\n",
    "    best_score = 0\n",
    "    best_config = configs[0]\n",
    "    for config in configs:\n",
    "        score = get_subgoal_score(config.getFrame(OBJ_NAME), config.getFrame(EGO_NAME), config.getFrame(GOAL_NAME), config)\n",
    "        if score > best_score:\n",
    "            best_score = score\n",
    "            best_config = config\n",
    "    return best_config"
   ]
  },
  {
   "cell_type": "code",
   "execution_count": null,
   "metadata": {},
   "outputs": [],
   "source": [
    "def solve(config : ry.Config, goal_frame : ry.Frame) -> list:\n",
    "    # TODO implement solve function\n",
    "    return None"
   ]
  },
  {
   "cell_type": "code",
   "execution_count": null,
   "metadata": {},
   "outputs": [],
   "source": [
    "# return the path to the goal\n",
    "def sub_solve(config : ry.Config, goal_frame : ry.Frame) -> list:\n",
    "    # TODO implement sub_solve function\n",
    "    return None"
   ]
  },
  {
   "cell_type": "code",
   "execution_count": null,
   "metadata": {},
   "outputs": [],
   "source": [
    "def reachable(config : ry.Config, object_frame : ry.Frame) -> bool:\n",
    "    rrt = ry.PathFinder()\n",
    "    rrt.setProblem(config, [config.getJointState()], [object_frame.getPosition[:2]])\n",
    "    ret = rrt.solve()\n",
    "    del rrt\n",
    "    return ret.feasible"
   ]
  },
  {
   "cell_type": "code",
   "execution_count": null,
   "metadata": {},
   "outputs": [],
   "source": [
    "POINT_COUNT = 100\n",
    "THRESHOLD = 10\n",
    "SUBSET_SIZE = 10\n",
    "def propose_subgoals(config : ry.Config, object_frame : ry.Frame) -> list:\n",
    "    generated_points = np.random.uniform(low=-2, high=2, size=(POINT_COUNT, 2)) # random point sampling\n",
    "\n",
    "    filtered_points = []\n",
    "    for point in generated_points:\n",
    "        config.getFrame(SUB_GOAL_NAME).setPosition([point[0], point[1], 0])\n",
    "        score = get_subgoal_score(config.getFrame(OBJ_NAME), config.getFrame(EGO_NAME), config.getFrame(SUB_GOAL_NAME), config)\n",
    "        if score >= THRESHOLD:\n",
    "            filtered_points.append(point)\n",
    "\n",
    "    subset_size = min(len(filtered_points), SUBSET_SIZE)\n",
    "    point_subset = np.random.choice(filtered_points, size=subset_size, replace=False)\n",
    "    return point_subset"
   ]
  },
  {
   "cell_type": "code",
   "execution_count": null,
   "metadata": {},
   "outputs": [],
   "source": [
    "# pseudocode for forward subproblem search algorithm\n",
    "# TODO correct implementation\n",
    "def forward_subproblem_search(start_config : ry.Config, goal_frame : ry.Frame):\n",
    "    L = [start_config]\n",
    "    while len(L) > 0:\n",
    "        x = select_node(L)\n",
    "        path = solve(x, goal_frame)\n",
    "        if path is not None: # if found\n",
    "            return path # path_full (?)\n",
    "        for object in objects:\n",
    "            if not reachable(x, object):\n",
    "                continue\n",
    "            subgoals = propose_subgoals(x, object)\n",
    "            for subgoal in subgoals:\n",
    "                # goal = object to subgoal\n",
    "                # path = sub_solve(x, goal)\n",
    "                # if path found and not rej(L, x^f) then\n",
    "                #   insert(L, x^f) # add last elememnt of path to L\n",
    "                pass\n",
    "    return None"
   ]
  }
 ],
 "metadata": {
  "kernelspec": {
   "display_name": "rai_env",
   "language": "python",
   "name": "python3"
  },
  "language_info": {
   "name": "python",
   "version": "3.11.10"
  }
 },
 "nbformat": 4,
 "nbformat_minor": 2
}
