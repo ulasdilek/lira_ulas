{
 "cells": [
  {
   "cell_type": "code",
   "execution_count": null,
   "metadata": {},
   "outputs": [],
   "source": [
    "import robotic as ry\n",
    "import numpy as np\n",
    "import time"
   ]
  },
  {
   "cell_type": "code",
   "execution_count": null,
   "metadata": {},
   "outputs": [],
   "source": [
    "config = ry.Config()\n",
    "config.addFile(\"puzzles/p5-wall-easy.g\")"
   ]
  },
  {
   "cell_type": "code",
   "execution_count": null,
   "metadata": {},
   "outputs": [],
   "source": [
    "EGO_NAME = \"ego\"\n",
    "OBJ_NAME = \"obj\"\n",
    "SUB_GOAL_NAME = \"sub-goal1\"\n",
    "GOAL_NAME = \"goal\"\n",
    "CAMERA_NAME = \"camera_top\"\n",
    "FLOOR_NAME = \"floor\""
   ]
  },
  {
   "cell_type": "code",
   "execution_count": null,
   "metadata": {},
   "outputs": [],
   "source": [
    "config.view()\n",
    "f = config.getFrame('camera_top')\n",
    "config.view_setCamera(f)"
   ]
  },
  {
   "cell_type": "code",
   "execution_count": null,
   "metadata": {},
   "outputs": [],
   "source": [
    "q_start = config.getFrame(EGO_NAME).getPosition()[:2]\n",
    "q_obj = config.getFrame(OBJ_NAME).getPosition()[:2]\n",
    "q_goal = config.getFrame(GOAL_NAME).getPosition()[:2]"
   ]
  },
  {
   "cell_type": "code",
   "execution_count": null,
   "metadata": {},
   "outputs": [],
   "source": [
    "def is_in_line_of_sight(point : np.array, frame : ry.Frame, config : ry.Config) -> bool:\n",
    "    # TODO compute if there is a line of sight between the point and the frame\n",
    "    return True"
   ]
  },
  {
   "cell_type": "code",
   "execution_count": null,
   "metadata": {},
   "outputs": [],
   "source": [
    "def get_proximity_score(point : np.array, goal_frame : ry.Frame) -> int:\n",
    "    distance = np.linalg.norm(point - goal_frame.getPosition()[:2])\n",
    "    if distance < 0.2:\n",
    "        return 5\n",
    "    elif distance < 0.4:\n",
    "        return 2\n",
    "    else:\n",
    "        return 0"
   ]
  },
  {
   "cell_type": "code",
   "execution_count": null,
   "metadata": {},
   "outputs": [],
   "source": [
    "def get_subgoal_score(\n",
    "        point : np.array,\n",
    "        agent_frame : ry.Frame,\n",
    "        goal_frame : ry.Frame,\n",
    "        config : ry.Config) -> int:\n",
    "    return 10 * int(is_in_line_of_sight(point, goal_frame, config)) + 5 * int(is_in_line_of_sight(point, agent_frame, config)) + get_proximity_score(point, goal_frame)"
   ]
  }
 ],
 "metadata": {
  "kernelspec": {
   "display_name": "rai_env",
   "language": "python",
   "name": "python3"
  },
  "language_info": {
   "name": "python",
   "version": "3.11.10"
  }
 },
 "nbformat": 4,
 "nbformat_minor": 2
}
