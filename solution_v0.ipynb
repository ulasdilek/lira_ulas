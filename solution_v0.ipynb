{
 "cells": [
  {
   "cell_type": "code",
   "execution_count": 1,
   "metadata": {},
   "outputs": [],
   "source": [
    "import robotic as ry\n",
    "import numpy as np\n",
    "import time"
   ]
  },
  {
   "cell_type": "code",
   "execution_count": 21,
   "metadata": {},
   "outputs": [
    {
     "data": {
      "text/plain": [
       "<robotic._robotic.Frame at 0x7f9dd4662070>"
      ]
     },
     "execution_count": 21,
     "metadata": {},
     "output_type": "execute_result"
    }
   ],
   "source": [
    "config = ry.Config()\n",
    "config.addFile(\"puzzles/p6-wall.g\")"
   ]
  },
  {
   "cell_type": "code",
   "execution_count": 3,
   "metadata": {},
   "outputs": [],
   "source": [
    "DEBUG_MODE = False"
   ]
  },
  {
   "cell_type": "code",
   "execution_count": 4,
   "metadata": {},
   "outputs": [],
   "source": [
    "EGO_NAME = \"ego\"\n",
    "OBJ_NAME = \"obj\"\n",
    "SUB_GOAL_NAME = \"sub-goal1\"\n",
    "GOAL_NAME = \"goal\"\n",
    "CAMERA_NAME = \"camera_top\"\n",
    "FLOOR_NAME = \"floor\"\n",
    "\n",
    "GAP = config.getFrame(EGO_NAME).getSize()[1] * 2"
   ]
  },
  {
   "cell_type": "code",
   "execution_count": 22,
   "metadata": {},
   "outputs": [],
   "source": [
    "config.view()\n",
    "f = config.getFrame(CAMERA_NAME)\n",
    "config.view_setCamera(f)"
   ]
  },
  {
   "cell_type": "code",
   "execution_count": 6,
   "metadata": {},
   "outputs": [],
   "source": [
    "q_start = config.getFrame(EGO_NAME).getPosition()[:2]\n",
    "q_obj = config.getFrame(OBJ_NAME).getPosition()[:2]\n",
    "q_goal = config.getFrame(GOAL_NAME).getPosition()[:2]"
   ]
  },
  {
   "cell_type": "code",
   "execution_count": 7,
   "metadata": {},
   "outputs": [],
   "source": [
    "def is_in_line_of_sight(position : np.array, target_frame : ry.Frame, config : ry.Config) -> bool:\n",
    "    frame_position = target_frame.getPosition()\n",
    "    frame_size = target_frame.getSize()\n",
    "    frame_hypotenuse = np.sqrt(frame_size[0]**2 + frame_size[1]**2)\n",
    "\n",
    "    sight_ray = frame_position[:2]  - position\n",
    "    alpha = np.arctan2(sight_ray[1], sight_ray[0])\n",
    "    theta = abs(alpha)\n",
    "\n",
    "    offset = frame_hypotenuse / 2 # can be made more precise\n",
    "\n",
    "    box_length = np.sqrt(sight_ray[0]**2 + sight_ray[1]**2) - 2 * offset\n",
    "    box_width = frame_hypotenuse * max(\n",
    "        np.cos(np.pi/4 - theta),\n",
    "        np.sin(theta - np.pi/4)\n",
    "    )\n",
    "    box_height = .2\n",
    "\n",
    "    box_x = position[0] + sight_ray[0]/2\n",
    "    box_y = position[1] + sight_ray[1]/2\n",
    "    box_z = 0.3\n",
    "    box_yaw = alpha\n",
    "\n",
    "    copy_config = ry.Config()\n",
    "    copy_config.addConfigurationCopy(config)\n",
    "    copy_config.addFrame(\"line_of_sight\") \\\n",
    "        .setShape(ry.ST.box, [box_length, box_width, box_height]) \\\n",
    "        .setContact(1) \\\n",
    "        .setColor([1, 1, 1]) \\\n",
    "        .setPose(f\"t({box_x} {box_y} {box_z}) E(0 0 {box_yaw})\")\n",
    "    copy_config.addFrame(\"point_A\") \\\n",
    "        .setShape(ry.ST.marker, [.2]) \\\n",
    "        .setPosition(frame_position)\n",
    "    copy_config.addFrame(\"point_B\") \\\n",
    "        .setShape(ry.ST.marker, [.2]) \\\n",
    "        .setPosition(list(position) + [0.3])\n",
    "    \n",
    "    if DEBUG_MODE:\n",
    "        copy_config.view_setCamera(copy_config.getFrame('camera_top'))\n",
    "        copy_config.view(pause=True, message=f\"box_width: {box_width:.2f}, alpha: {alpha/np.pi*180}, line: {sight_ray}\")\n",
    "        copy_config.view_close()\n",
    "\n",
    "    is_in_sight = copy_config.getCollisionFree()\n",
    "    del copy_config\n",
    "    return is_in_sight"
   ]
  },
  {
   "cell_type": "code",
   "execution_count": 8,
   "metadata": {},
   "outputs": [],
   "source": [
    "def cartesian_to_polar(coordinates):\n",
    "    x = coordinates[0]\n",
    "    y = coordinates[1]\n",
    "    r = np.hypot(x, y)\n",
    "    theta = np.arctan2(y, x)\n",
    "    return r, theta"
   ]
  },
  {
   "cell_type": "code",
   "execution_count": 9,
   "metadata": {},
   "outputs": [],
   "source": [
    "def polar_to_cartesian(coordinates):\n",
    "    r = coordinates[0]\n",
    "    theta = coordinates[1]\n",
    "    x = r * np.cos(theta)\n",
    "    y = r * np.sin(theta)\n",
    "    return x, y"
   ]
  },
  {
   "cell_type": "code",
   "execution_count": 10,
   "metadata": {},
   "outputs": [],
   "source": [
    "def solve_touch_with_komo(komo_config):\n",
    "    komo = ry.KOMO(komo_config, phases=1, slicesPerPhase=1, kOrder=0, enableCollisions=True)\n",
    "    komo.addObjective([], ry.FS.accumulatedCollisions, [], ry.OT.eq, scale=[1e2])\n",
    "    komo.addObjective([], ry.FS.negDistance, [EGO_NAME, OBJ_NAME], ry.OT.eq, [1e1])\n",
    "    ret = ry.NLP_Solver(komo.nlp(), verbose=0).solve()\n",
    "    if ret:\n",
    "        path = komo.getPath()\n",
    "        return path\n",
    "    else:\n",
    "        return None"
   ]
  },
  {
   "cell_type": "code",
   "execution_count": 11,
   "metadata": {},
   "outputs": [],
   "source": [
    "ry.params_add({\n",
    "    \"rrt/stepsize\": 0.1\n",
    "})\n",
    "def solve_rrt(cur_config : ry.Config, q_begin : np.array, q_object : np.array, q_target : np.array):\n",
    "    ITERATIONS = 24\n",
    "    delta_theta = 2 * np.pi / ITERATIONS\n",
    "    delta_theta += np.random.uniform(0, 2 * np.pi)\n",
    "    for i in range(ITERATIONS):\n",
    "        transpose_polar1 = np.array([GAP, i * delta_theta])\n",
    "        transpose_cartesian1 = np.array(polar_to_cartesian(transpose_polar1))\n",
    "        q_home1 = q_object + transpose_cartesian1\n",
    "        cur_config.setJointState(q_home1)\n",
    "        q_sub = solve_touch_with_komo(cur_config)\n",
    "        # keep all komo results\n",
    "        if q_sub is not None:\n",
    "            cur_config.setJointState(q_begin)\n",
    "            copy_config = ry.Config()\n",
    "            copy_config.addConfigurationCopy(cur_config)\n",
    "            copy_config.setJointState(q_sub)\n",
    "            if copy_config.getCollisionsTotalPenetration() > 0:\n",
    "                continue\n",
    "            \n",
    "            rrt = ry.PathFinder()\n",
    "            rrt.setProblem(cur_config, [q_begin], [q_sub])\n",
    "            solution1 = rrt.solve()\n",
    "            del rrt\n",
    "            if not solution1.feasible:\n",
    "                continue\n",
    "            \n",
    "            cur_config.setJointState(q_sub)\n",
    "            cur_config.attach(EGO_NAME, OBJ_NAME)\n",
    "            q_real_goal = q_target + q_sub - q_object\n",
    "\n",
    "            rrt = ry.PathFinder()\n",
    "            rrt.setProblem(cur_config, [q_sub], [q_real_goal])\n",
    "            solution2 = rrt.solve()\n",
    "            del rrt\n",
    "            cur_config.attach(FLOOR_NAME, OBJ_NAME)\n",
    "            cur_config.setJointState(q_begin)\n",
    "            if solution1.feasible and solution2.feasible:\n",
    "                return solution1, solution2\n",
    "\n",
    "    cur_config.setJointState(q_begin)            \n",
    "    return None, None"
   ]
  },
  {
   "cell_type": "code",
   "execution_count": 12,
   "metadata": {},
   "outputs": [],
   "source": [
    "def get_proximity_score(position : np.array, goal_frame : ry.Frame) -> int:\n",
    "    distance = np.linalg.norm(position - goal_frame.getPosition()[:2])\n",
    "    if distance < 0.2:\n",
    "        return 5\n",
    "    elif distance < 0.4:\n",
    "        return 2\n",
    "    else:\n",
    "        return 0"
   ]
  },
  {
   "cell_type": "code",
   "execution_count": null,
   "metadata": {},
   "outputs": [],
   "source": [
    "def get_goal_score(\n",
    "        subgoal_position : np.array,\n",
    "        agent_frame : ry.Frame,\n",
    "        goal_frame : ry.Frame,\n",
    "        config : ry.Config) -> int:\n",
    "    return 10 * int(is_in_line_of_sight(subgoal_position, goal_frame, config)) \\\n",
    "        + 5 * int(is_in_line_of_sight(subgoal_position, agent_frame, config)) \\\n",
    "        + get_proximity_score(subgoal_position, goal_frame)"
   ]
  },
  {
   "cell_type": "code",
   "execution_count": null,
   "metadata": {},
   "outputs": [],
   "source": [
    "def select_node(configs : list) -> ry.Config:\n",
    "    best_score = 0\n",
    "    config_index = 0\n",
    "    best_config = configs[config_index]\n",
    "    for i in range(len(configs)):\n",
    "        sample_config = configs[i]\n",
    "        score = get_goal_score(sample_config.getFrame(SUB_GOAL_NAME).getPosition()[:2], \n",
    "                                  sample_config.getFrame(EGO_NAME),\n",
    "                                  sample_config.getFrame(GOAL_NAME),\n",
    "                                  sample_config)\n",
    "        if score > best_score:\n",
    "            best_score = score\n",
    "            best_config = sample_config\n",
    "            config_index = i\n",
    "    return best_config, config_index"
   ]
  },
  {
   "cell_type": "code",
   "execution_count": 15,
   "metadata": {},
   "outputs": [],
   "source": [
    "def reachable(reach_config : ry.Config, object_frame : ry.Frame) -> bool:\n",
    "    copy_config = ry.Config()\n",
    "    copy_config.addConfigurationCopy(reach_config)\n",
    "    copy_config.getFrame(OBJ_NAME).setContact(0)\n",
    "    rrt = ry.PathFinder()\n",
    "    rrt.setProblem(copy_config, [copy_config.getJointState()], [object_frame.getPosition()[:2]])\n",
    "    ret = rrt.solve()\n",
    "    del rrt\n",
    "    del copy_config\n",
    "    return ret.feasible"
   ]
  },
  {
   "cell_type": "code",
   "execution_count": null,
   "metadata": {},
   "outputs": [],
   "source": [
    "POINT_COUNT = 300\n",
    "THRESHOLD = 2\n",
    "SUBSET_SIZE = 25\n",
    "def propose_subgoals(config : ry.Config, object_frame : ry.Frame) -> list:\n",
    "    generated_points = np.random.uniform(low=-2, high=2, size=(POINT_COUNT, 2)) # random point sampling\n",
    "\n",
    "    filtered_points = []\n",
    "    for point in generated_points:\n",
    "        config.getFrame(SUB_GOAL_NAME).setPosition([point[0], point[1], 0.2])\n",
    "        score = get_goal_score(point, config.getFrame(EGO_NAME), config.getFrame(GOAL_NAME), config)\n",
    "        if score >= THRESHOLD:\n",
    "            filtered_points.append(point)\n",
    "\n",
    "    filtered_points.append(object_frame.getPosition()[:2])\n",
    "    points_array = np.array(filtered_points)\n",
    "    subset_size = min(len(filtered_points), SUBSET_SIZE)\n",
    "    point_subset = points_array[np.random.choice(points_array.shape[0], size=subset_size, replace=False)]\n",
    "\n",
    "    return point_subset"
   ]
  },
  {
   "cell_type": "code",
   "execution_count": 17,
   "metadata": {},
   "outputs": [],
   "source": [
    "def animate_solution(anim_config, solution):\n",
    "    for state in solution.x:\n",
    "        anim_config.setJointState(state)\n",
    "        anim_config.view()\n",
    "        time.sleep(0.025)"
   ]
  },
  {
   "cell_type": "code",
   "execution_count": null,
   "metadata": {},
   "outputs": [],
   "source": [
    "class SolutionNode:\n",
    "    def __init__(self, goal_config : ry.Config, parent : 'SolutionNode' = None):\n",
    "        self.goal_config = goal_config\n",
    "        self.parent = parent\n",
    "        self.children = []\n",
    "        self.score = get_goal_score(goal_config.getFrame(OBJ_NAME).getPosition()[:2],\n",
    "                                    goal_config.getFrame(EGO_NAME),\n",
    "                                    goal_config.getFrame(GOAL_NAME),\n",
    "                                    goal_config)\n",
    "\n",
    "    def add_child(self, new_goal : ry.Config):\n",
    "        new_node = SolutionNode(new_goal, parent=self)\n",
    "        self.children.append(new_node)\n",
    "\n",
    "\n",
    "class SolutionTree:\n",
    "    def __init__(self, root : SolutionNode):\n",
    "        self.root = root\n"
   ]
  },
  {
   "cell_type": "code",
   "execution_count": null,
   "metadata": {},
   "outputs": [],
   "source": [
    "# forward subproblem search algorithm\n",
    "objects = [OBJ_NAME]\n",
    "def forward_subproblem_search(start_config : ry.Config, goal_frame : ry.Frame):\n",
    "    L = [start_config]\n",
    "    while len(L) > 0:\n",
    "        x, index = select_node(L)\n",
    "        L.pop(index)\n",
    "        solution1, solution2 = solve_rrt(x,\n",
    "                                         x.getJointState(),\n",
    "                                         x.getFrame(OBJ_NAME).getPosition()[:2],\n",
    "                                         goal_frame.getPosition()[:2])\n",
    "        if solution1 is not None: # if found\n",
    "            return x, solution1, solution2\n",
    "        \n",
    "        for object in objects: # there is just one object for now\n",
    "            object_frame = x.getFrame(object)\n",
    "            if not reachable(x, object_frame):\n",
    "                continue\n",
    "            subgoals = propose_subgoals(x, object_frame)\n",
    "            for subgoal in subgoals:\n",
    "                new_config = ry.Config()\n",
    "                new_config.addConfigurationCopy(x)\n",
    "                new_config.getFrame(SUB_GOAL_NAME).setPosition(subgoal.tolist() + [0.2])\n",
    "                path1, path2 = solve_rrt(new_config, new_config.getJointState(), object_frame.getPosition()[:2], subgoal)\n",
    "                # if path found and not rej(L, x^f) then\n",
    "                if path1 is not None:\n",
    "                    new_config.setJointState(path1.x[-1])\n",
    "                    new_config.attach(EGO_NAME, OBJ_NAME)\n",
    "                    new_config.setJointState(path2.x[-1])\n",
    "                    new_config.attach(FLOOR_NAME, OBJ_NAME)\n",
    "                    if DEBUG_MODE:\n",
    "                        new_config.view_setCamera(new_config.getFrame(CAMERA_NAME))\n",
    "                        new_config.view(pause=True)\n",
    "                        new_config.view_close()\n",
    "                    L.append(new_config) # add last elememnt of path to L\n",
    "    return None, None, None"
   ]
  },
  {
   "cell_type": "code",
   "execution_count": 19,
   "metadata": {},
   "outputs": [
    {
     "data": {
      "text/plain": [
       "0"
      ]
     },
     "execution_count": 19,
     "metadata": {},
     "output_type": "execute_result"
    }
   ],
   "source": [
    "# test random points\n",
    "subgoals = propose_subgoals(config, config.getFrame(OBJ_NAME))\n",
    "count = 0\n",
    "for point in subgoals:\n",
    "    count += 1\n",
    "    config.addFrame(f\"sg_{count}\") \\\n",
    "        .setShape(ry.ST.sphere, [.05]) \\\n",
    "        .setPosition(list(point) + [0.2]) \\\n",
    "        .setColor([1, 0, 1])\n",
    "config.view()"
   ]
  },
  {
   "cell_type": "code",
   "execution_count": null,
   "metadata": {},
   "outputs": [],
   "source": [
    "solution_config, path1, path2 = forward_subproblem_search(config, config.getFrame(GOAL_NAME))\n",
    "if solution_config is not None:\n",
    "    solution_config.view_setCamera(solution_config.getFrame(CAMERA_NAME))\n",
    "    solution_config.view()\n",
    "    animate_solution(solution_config, path1)\n",
    "    solution_config.attach(EGO_NAME, OBJ_NAME)\n",
    "    animate_solution(solution_config, path2)\n",
    "    solution_config.attach(FLOOR_NAME, OBJ_NAME)\n",
    "    solution_config.view()"
   ]
  },
  {
   "cell_type": "code",
   "execution_count": null,
   "metadata": {},
   "outputs": [],
   "source": [
    "config.view_close()\n",
    "del config"
   ]
  },
  {
   "cell_type": "code",
   "execution_count": null,
   "metadata": {},
   "outputs": [],
   "source": []
  }
 ],
 "metadata": {
  "kernelspec": {
   "display_name": "rai_env",
   "language": "python",
   "name": "python3"
  },
  "language_info": {
   "codemirror_mode": {
    "name": "ipython",
    "version": 3
   },
   "file_extension": ".py",
   "mimetype": "text/x-python",
   "name": "python",
   "nbconvert_exporter": "python",
   "pygments_lexer": "ipython3",
   "version": "3.11.10"
  }
 },
 "nbformat": 4,
 "nbformat_minor": 2
}
